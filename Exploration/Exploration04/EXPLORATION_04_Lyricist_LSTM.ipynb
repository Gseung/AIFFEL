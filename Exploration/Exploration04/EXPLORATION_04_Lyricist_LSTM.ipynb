{
 "cells": [
  {
   "cell_type": "markdown",
   "id": "meaningful-yugoslavia",
   "metadata": {},
   "source": [
    "# 프로젝트: 작사가 만들기\n",
    "---\n",
    "\n",
    "## 1. 데이터 불러오기   "
   ]
  },
  {
   "cell_type": "code",
   "execution_count": 2,
   "id": "satisfactory-surgeon",
   "metadata": {},
   "outputs": [],
   "source": [
    "# 필요한 모듈 불러오기\n",
    "import os, re \n",
    "import glob\n",
    "import numpy as np\n",
    "import tensorflow as tf\n",
    "from sklearn.model_selection import train_test_split"
   ]
  },
  {
   "cell_type": "code",
   "execution_count": 3,
   "id": "caring-bernard",
   "metadata": {},
   "outputs": [
    {
     "name": "stdout",
     "output_type": "stream",
     "text": [
      "데이터 크기: 187088\n",
      "Examples:\n",
      " ['[Hook]', \"I've been down so long, it look like up to me\", 'They look up to me']\n"
     ]
    }
   ],
   "source": [
    "txt_file_path = './data/lyrics/*'\n",
    "\n",
    "txt_list = glob.glob(txt_file_path)\n",
    "\n",
    "raw_corpus = []\n",
    "\n",
    "# 여러개의 txt 파일을 모두 읽어서 raw_corpus 에 담습니다.\n",
    "for txt_file in txt_list:\n",
    "    with open(txt_file, \"r\") as f:\n",
    "        raw = f.read().splitlines()\n",
    "        raw_corpus.extend(raw)\n",
    "\n",
    "print(\"데이터 크기:\", len(raw_corpus))\n",
    "print(\"Examples:\\n\", raw_corpus[:3])"
   ]
  },
  {
   "cell_type": "markdown",
   "id": "sonic-thailand",
   "metadata": {},
   "source": [
    "## 2. 데이터 전처리"
   ]
  },
  {
   "cell_type": "code",
   "execution_count": 4,
   "id": "legitimate-vatican",
   "metadata": {},
   "outputs": [],
   "source": [
    "# 입력된 문장을\n",
    "#     1. 소문자로 바꾸고, 양쪽 공백을 지웁니다\n",
    "#     2. 특수문자 양쪽에 공백을 넣고\n",
    "#     3. 여러개의 공백은 하나의 공백으로 바꿉니다\n",
    "#     4. a-zA-Z?.!,¿가 아닌 모든 문자를 하나의 공백으로 바꿉니다\n",
    "#     5. 다시 양쪽 공백을 지웁니다\n",
    "#     6. 문장 시작에는 <start>, 끝에는 <end>를 추가합니다\n",
    "# 이 순서로 처리해주면 문제가 되는 상황을 방지할 수 있겠네요!\n",
    "def preprocess_sentence(sentence):\n",
    "    sentence = sentence.lower().strip() # 1\n",
    "    sentence = re.sub(r\"([?.!,¿])\", r\" \\1 \", sentence) # 2\n",
    "    sentence = re.sub(r'[\" \"]+', \" \", sentence) # 3\n",
    "    sentence = re.sub(r\"[^a-zA-Z?.!,¿]+\", \" \", sentence) # 4\n",
    "    sentence = sentence.strip() # 5\n",
    "    sentence = '<start> ' + sentence + ' <end>' # 6\n",
    "    return sentence"
   ]
  },
  {
   "cell_type": "code",
   "execution_count": 5,
   "id": "mental-funeral",
   "metadata": {},
   "outputs": [
    {
     "data": {
      "text/plain": [
       "['<start> i ve been down so long , it look like up to me <end>',\n",
       " '<start> they look up to me <end>',\n",
       " '<start> i got fake people showin fake love to me <end>',\n",
       " '<start> straight up to my face , straight up to my face <end>',\n",
       " '<start> i ve been down so long , it look like up to me <end>',\n",
       " '<start> they look up to me <end>',\n",
       " '<start> i got fake people showin fake love to me <end>',\n",
       " '<start> somethin ain t right when we talkin <end>',\n",
       " '<start> somethin ain t right when we talkin <end>',\n",
       " '<start> look like you hidin your problems <end>']"
      ]
     },
     "execution_count": 5,
     "metadata": {},
     "output_type": "execute_result"
    }
   ],
   "source": [
    "# 여기에 정제된 문장을 모을겁니다\n",
    "corpus = []\n",
    "\n",
    "for sentence in raw_corpus:\n",
    "    if len(sentence) == 0: continue  # 길이가 0인 빈 문장은 건너뜁니다\n",
    "    if sentence[-1] == \"]\": continue # ']'로 끝나는 파트를 나눈 문장은 건너뜁니다\n",
    "    if sentence[-1] == \")\": continue # ')'로 끝나는 코러스 문장은 건너뜁니다    \n",
    "        \n",
    "    # 정제를 하고 담아주세요\n",
    "    preprocessed_sentence = preprocess_sentence(sentence)\n",
    "    corpus.append(preprocessed_sentence)\n",
    "        \n",
    "# 정제된 결과를 10개만 확인해봅니다.\n",
    "corpus[:10]"
   ]
  },
  {
   "cell_type": "code",
   "execution_count": 6,
   "id": "interim-pastor",
   "metadata": {},
   "outputs": [
    {
     "name": "stdout",
     "output_type": "stream",
     "text": [
      "[[   2    5   90 ...   10   12    3]\n",
      " [   2   42  131 ...    0    0    0]\n",
      " [   2    5   39 ...    0    0    0]\n",
      " ...\n",
      " [   2   86  716 ...    0    0    0]\n",
      " [   2  214    3 ...    0    0    0]\n",
      " [   2    9 1300 ...    0    0    0]] <keras_preprocessing.text.Tokenizer object at 0x7f78a963cb50>\n"
     ]
    }
   ],
   "source": [
    "def tokenize(corpus):\n",
    "    tokenizer = tf.keras.preprocessing.text.Tokenizer(\n",
    "        num_words=12000, \n",
    "        filters=' ',\n",
    "        oov_token=\"<unk>\"\n",
    "    )\n",
    "    # corpus를 이용해 tokenizer 내부의 단어장을 완성합니다\n",
    "    tokenizer.fit_on_texts(corpus)\n",
    "    # 준비한 tokenizer를 이용해 corpus를 Tensor로 변환합니다\n",
    "    tensor = tokenizer.texts_to_sequences(corpus)   \n",
    "    # 입력 데이터의 시퀀스 길이를 일정하게 맞춰줍니다\n",
    "    # 만약 시퀀스가 짧다면 문장 뒤에 패딩을 붙여 길이를 맞춰줍니다.\n",
    "    # 문장 앞에 패딩을 붙여 길이를 맞추고 싶다면 padding='pre'를 사용합니다\n",
    "    # maxlen=15로 설정\n",
    "    tensor = tf.keras.preprocessing.sequence.pad_sequences(tensor, padding='post', maxlen=15)  \n",
    "    \n",
    "    print(tensor,tokenizer)\n",
    "    return tensor, tokenizer\n",
    "\n",
    "tensor, tokenizer = tokenize(corpus)"
   ]
  },
  {
   "cell_type": "code",
   "execution_count": 7,
   "id": "nervous-wealth",
   "metadata": {},
   "outputs": [
    {
     "name": "stdout",
     "output_type": "stream",
     "text": [
      "1 : <unk>\n",
      "2 : <start>\n",
      "3 : <end>\n",
      "4 : ,\n",
      "5 : i\n",
      "6 : the\n",
      "7 : you\n",
      "8 : and\n",
      "9 : a\n",
      "10 : to\n"
     ]
    }
   ],
   "source": [
    "for idx in tokenizer.index_word:\n",
    "    print(idx, \":\", tokenizer.index_word[idx])\n",
    "\n",
    "    if idx >= 10: break"
   ]
  },
  {
   "cell_type": "code",
   "execution_count": 8,
   "id": "starting-neighborhood",
   "metadata": {},
   "outputs": [
    {
     "name": "stdout",
     "output_type": "stream",
     "text": [
      "[  2   5  90 101  59  29 158   4  11 131  24  31  10  12]\n",
      "[  5  90 101  59  29 158   4  11 131  24  31  10  12   3]\n"
     ]
    }
   ],
   "source": [
    "# tensor에서 마지막 토큰을 잘라내서 소스 문장을 생성합니다\n",
    "# 마지막 토큰은 <end>가 아니라 <pad>일 가능성이 높습니다.\n",
    "src_input = tensor[:, :-1]  \n",
    "# tensor에서 <start>를 잘라내서 타겟 문장을 생성합니다.\n",
    "tgt_input = tensor[:, 1:]    \n",
    "\n",
    "print(src_input[0])\n",
    "print(tgt_input[0])"
   ]
  },
  {
   "cell_type": "markdown",
   "id": "rolled-oxide",
   "metadata": {},
   "source": [
    "## 3. 평가 데이터셋 분리"
   ]
  },
  {
   "cell_type": "code",
   "execution_count": 9,
   "id": "cheap-isolation",
   "metadata": {},
   "outputs": [
    {
     "name": "stdout",
     "output_type": "stream",
     "text": [
      "Source Train: (133342, 14)\n",
      "Target Train: (133342, 14)\n"
     ]
    }
   ],
   "source": [
    "enc_train, enc_val, dec_train, dec_val = train_test_split(src_input, \n",
    "                                                    tgt_input, \n",
    "                                                    test_size=0.2)\n",
    "\n",
    "print(\"Source Train:\", enc_train.shape)\n",
    "print(\"Target Train:\", dec_train.shape)"
   ]
  },
  {
   "cell_type": "code",
   "execution_count": 10,
   "id": "illegal-anderson",
   "metadata": {},
   "outputs": [
    {
     "data": {
      "text/plain": [
       "<BatchDataset shapes: ((256, 14), (256, 14)), types: (tf.int32, tf.int32)>"
      ]
     },
     "execution_count": 10,
     "metadata": {},
     "output_type": "execute_result"
    }
   ],
   "source": [
    "BUFFER_SIZE = len(src_input)\n",
    "BATCH_SIZE = 256\n",
    "steps_per_epoch = len(src_input) // BATCH_SIZE\n",
    "\n",
    " # tokenizer가 구축한 단어사전 내 12000개와, 여기 포함되지 않은 0:<pad>를 포함하여 12001개\n",
    "VOCAB_SIZE = tokenizer.num_words + 1   \n",
    "\n",
    "# 준비한 데이터 소스로부터 데이터셋을 만듭니다\n",
    "dataset = tf.data.Dataset.from_tensor_slices((src_input, tgt_input))\n",
    "dataset = dataset.shuffle(BUFFER_SIZE)\n",
    "dataset = dataset.batch(BATCH_SIZE, drop_remainder=True)\n",
    "dataset"
   ]
  },
  {
   "cell_type": "markdown",
   "id": "successful-collector",
   "metadata": {},
   "source": [
    "## 4. 인공지능 만들기"
   ]
  },
  {
   "cell_type": "code",
   "execution_count": 11,
   "id": "healthy-chamber",
   "metadata": {},
   "outputs": [],
   "source": [
    "class TextGenerator(tf.keras.Model):\n",
    "    def __init__(self, vocab_size, embedding_size, hidden_size):\n",
    "        super().__init__()\n",
    "        \n",
    "        self.embedding = tf.keras.layers.Embedding(vocab_size, embedding_size)\n",
    "        self.rnn_1 = tf.keras.layers.LSTM(hidden_size, return_sequences=True)\n",
    "        self.rnn_2 = tf.keras.layers.LSTM(hidden_size, return_sequences=True)\n",
    "        self.linear = tf.keras.layers.Dense(vocab_size)\n",
    "        \n",
    "    def call(self, x):\n",
    "        out = self.embedding(x)\n",
    "        out = self.rnn_1(out)\n",
    "        out = self.rnn_2(out)\n",
    "        out = self.linear(out)\n",
    "        \n",
    "        return out\n",
    "    \n",
    "embedding_size = 1024\n",
    "hidden_size = 4096\n",
    "model = TextGenerator(tokenizer.num_words + 1, embedding_size , hidden_size)"
   ]
  },
  {
   "cell_type": "code",
   "execution_count": 12,
   "id": "overhead-geometry",
   "metadata": {},
   "outputs": [
    {
     "data": {
      "text/plain": [
       "<tf.Tensor: shape=(256, 14, 12001), dtype=float32, numpy=\n",
       "array([[[ 5.17149223e-04,  3.82951075e-05, -1.10168578e-04, ...,\n",
       "          1.61666176e-04,  6.00558742e-05, -7.81947398e-04],\n",
       "        [ 1.10495964e-03,  4.90141625e-04, -3.18545150e-04, ...,\n",
       "          2.11997220e-04,  2.15865701e-04, -1.83830422e-03],\n",
       "        [ 1.84656249e-03,  9.08538408e-04,  2.64887422e-05, ...,\n",
       "          4.58488619e-04, -1.08630535e-04, -2.24360079e-03],\n",
       "        ...,\n",
       "        [ 1.88600505e-04,  3.52300121e-03, -7.19406549e-03, ...,\n",
       "         -2.09457667e-05, -1.37549976e-03, -4.14639333e-04],\n",
       "        [-5.75254926e-05,  3.36566451e-03, -8.14442057e-03, ...,\n",
       "         -1.94023451e-04, -1.68198161e-03, -2.54684652e-04],\n",
       "        [-2.88135780e-04,  3.11537273e-03, -8.94300546e-03, ...,\n",
       "         -3.91246227e-04, -1.97544042e-03, -1.41539320e-04]],\n",
       "\n",
       "       [[ 5.17149223e-04,  3.82951075e-05, -1.10168578e-04, ...,\n",
       "          1.61666176e-04,  6.00558742e-05, -7.81947398e-04],\n",
       "        [ 6.80245459e-04,  1.04981344e-04, -1.77061331e-04, ...,\n",
       "          1.15342336e-04, -2.00298382e-04, -8.53215286e-04],\n",
       "        [ 6.65402040e-04, -1.93266329e-04, -4.16378403e-04, ...,\n",
       "          3.06791073e-04, -1.41926634e-04, -8.83809174e-04],\n",
       "        ...,\n",
       "        [-3.94811301e-04,  1.12917088e-03, -3.84697254e-04, ...,\n",
       "         -1.33866852e-03,  1.13951426e-03,  9.76590207e-04],\n",
       "        [-6.57068042e-04,  1.49101100e-03, -1.07221946e-03, ...,\n",
       "         -1.11059076e-03,  7.28990301e-04,  1.23166339e-03],\n",
       "        [-7.39181414e-04,  1.87052006e-03, -2.15272652e-03, ...,\n",
       "         -8.10822297e-04,  2.47971300e-04,  1.43211463e-03]],\n",
       "\n",
       "       [[ 5.17149223e-04,  3.82951075e-05, -1.10168578e-04, ...,\n",
       "          1.61666176e-04,  6.00558742e-05, -7.81947398e-04],\n",
       "        [ 1.08604832e-03, -2.27766970e-04, -1.18261232e-04, ...,\n",
       "          3.25683388e-04, -1.26256869e-04, -1.34358171e-03],\n",
       "        [ 1.46074116e-03, -1.23256657e-04, -3.57886864e-04, ...,\n",
       "          7.61956093e-04, -4.05637111e-04, -1.45124330e-03],\n",
       "        ...,\n",
       "        [ 6.30646886e-04,  2.87744240e-03, -6.28058473e-03, ...,\n",
       "          1.16160139e-03, -1.28862180e-03, -4.74544213e-05],\n",
       "        [ 4.39285592e-04,  2.80089467e-03, -7.18873274e-03, ...,\n",
       "          8.65528942e-04, -1.50298444e-03, -4.04148414e-05],\n",
       "        [ 2.44112525e-04,  2.61172582e-03, -7.98103493e-03, ...,\n",
       "          5.36749314e-04, -1.73947425e-03, -5.60636690e-05]],\n",
       "\n",
       "       ...,\n",
       "\n",
       "       [[-2.57393869e-04,  2.36115680e-04,  1.06078252e-04, ...,\n",
       "          8.37281696e-05,  8.77740240e-05, -6.71841844e-05],\n",
       "        [-3.25308793e-05,  6.43179956e-05, -4.65690100e-04, ...,\n",
       "         -8.95658450e-05,  3.44807311e-04,  1.16648866e-04],\n",
       "        [ 5.77852305e-04,  3.32472235e-04, -4.79913113e-04, ...,\n",
       "         -1.53770714e-04,  7.43954966e-04,  2.36575521e-04],\n",
       "        ...,\n",
       "        [-1.64841372e-03, -1.15132178e-04, -1.76801160e-03, ...,\n",
       "         -6.62822393e-04,  1.07307395e-03, -1.68354029e-03],\n",
       "        [-1.94615044e-03, -6.36098033e-04, -5.90884592e-04, ...,\n",
       "         -7.82593095e-04,  8.08185665e-04, -2.16669845e-03],\n",
       "        [-2.07760604e-03, -6.59839192e-04,  3.04731890e-04, ...,\n",
       "         -6.81146106e-04,  4.89004538e-04, -2.58091837e-03]],\n",
       "\n",
       "       [[ 5.17149223e-04,  3.82951075e-05, -1.10168578e-04, ...,\n",
       "          1.61666176e-04,  6.00558742e-05, -7.81947398e-04],\n",
       "        [ 1.16250978e-03, -1.97322530e-04, -9.00956293e-05, ...,\n",
       "          4.60372947e-04,  5.35177998e-04, -5.77175757e-04],\n",
       "        [ 1.39232841e-03, -4.53387824e-04, -1.35566763e-04, ...,\n",
       "          7.63038930e-04,  8.59389838e-04, -7.69634673e-04],\n",
       "        ...,\n",
       "        [-1.72489745e-04,  7.42685108e-04, -1.22097321e-03, ...,\n",
       "          8.33277008e-04,  1.26656110e-03,  3.01170832e-04],\n",
       "        [-2.32595456e-04,  9.69753251e-04, -7.78249057e-04, ...,\n",
       "          9.81540186e-04,  1.38929742e-03,  8.96624580e-04],\n",
       "        [-2.32515769e-04,  1.00522593e-03, -4.39569085e-05, ...,\n",
       "          8.58964399e-04,  1.46363699e-03,  1.85395242e-03]],\n",
       "\n",
       "       [[ 5.17149223e-04,  3.82951075e-05, -1.10168578e-04, ...,\n",
       "          1.61666176e-04,  6.00558742e-05, -7.81947398e-04],\n",
       "        [ 8.11964739e-04, -2.42580427e-04,  2.01622155e-04, ...,\n",
       "          5.83522022e-04,  1.09992405e-04, -1.49886403e-03],\n",
       "        [ 1.34720595e-03, -1.85827230e-04, -1.64028650e-04, ...,\n",
       "          1.90917097e-04,  4.19005701e-05, -1.10850425e-03],\n",
       "        ...,\n",
       "        [ 4.22365149e-04,  3.16620892e-04, -3.02909920e-03, ...,\n",
       "          2.49944953e-03,  1.53066311e-03, -7.84379314e-04],\n",
       "        [ 3.23591725e-04,  1.10490667e-03, -4.09584539e-03, ...,\n",
       "          2.69760983e-03,  1.29804260e-03, -5.20942500e-04],\n",
       "        [ 2.55989755e-04,  1.79954991e-03, -5.21717593e-03, ...,\n",
       "          2.74153659e-03,  9.66786407e-04, -2.95481383e-04]]],\n",
       "      dtype=float32)>"
      ]
     },
     "execution_count": 12,
     "metadata": {},
     "output_type": "execute_result"
    }
   ],
   "source": [
    "# 데이터셋에서 데이터 한 배치만 불러오는 방법입니다.\n",
    "for src_sample, tgt_sample in dataset.take(1): break\n",
    "\n",
    "# 한 배치만 불러온 데이터를 모델에 넣어봅니다\n",
    "model(src_sample)"
   ]
  },
  {
   "cell_type": "code",
   "execution_count": 13,
   "id": "coordinated-crown",
   "metadata": {},
   "outputs": [
    {
     "name": "stdout",
     "output_type": "stream",
     "text": [
      "Model: \"text_generator\"\n",
      "_________________________________________________________________\n",
      "Layer (type)                 Output Shape              Param #   \n",
      "=================================================================\n",
      "embedding (Embedding)        multiple                  12289024  \n",
      "_________________________________________________________________\n",
      "lstm (LSTM)                  multiple                  83902464  \n",
      "_________________________________________________________________\n",
      "lstm_1 (LSTM)                multiple                  134234112 \n",
      "_________________________________________________________________\n",
      "dense (Dense)                multiple                  49168097  \n",
      "=================================================================\n",
      "Total params: 279,593,697\n",
      "Trainable params: 279,593,697\n",
      "Non-trainable params: 0\n",
      "_________________________________________________________________\n"
     ]
    }
   ],
   "source": [
    "model.summary()"
   ]
  },
  {
   "cell_type": "code",
   "execution_count": null,
   "id": "included-sullivan",
   "metadata": {},
   "outputs": [
    {
     "name": "stdout",
     "output_type": "stream",
     "text": [
      "Epoch 1/10\n",
      "261/261 [==============================] - 1648s 6s/step - loss: 4.4748 - val_loss: 3.2732\n",
      "Epoch 2/10\n",
      "189/261 [====================>.........] - ETA: 6:28 - loss: 3.1890"
     ]
    }
   ],
   "source": [
    "optimizer = tf.keras.optimizers.Adam()\n",
    "loss = tf.keras.losses.SparseCategoricalCrossentropy(\n",
    "    from_logits=True,\n",
    "    reduction='none'\n",
    ")\n",
    "\n",
    "model.compile(loss=loss, optimizer=optimizer)\n",
    "# model.fit(enc_val, epochs=10)\n",
    "model.fit(enc_train, dec_train, validation_data=(enc_val, dec_val),epochs=10, batch_size=512)"
   ]
  },
  {
   "cell_type": "markdown",
   "id": "nuclear-planet",
   "metadata": {},
   "source": [
    "## 5. 모델 평가"
   ]
  },
  {
   "cell_type": "code",
   "execution_count": null,
   "id": "seven-consultancy",
   "metadata": {},
   "outputs": [],
   "source": [
    "def generate_text(model, tokenizer, init_sentence=\"<start>\", max_len=20):\n",
    "    # 테스트를 위해서 입력받은 init_sentence도 텐서로 변환합니다\n",
    "    test_input = tokenizer.texts_to_sequences([init_sentence])\n",
    "    test_tensor = tf.convert_to_tensor(test_input, dtype=tf.int64)\n",
    "    end_token = tokenizer.word_index[\"<end>\"]\n",
    "\n",
    "    # 단어 하나씩 예측해 문장을 만듭니다\n",
    "    #    1. 입력받은 문장의 텐서를 입력합니다\n",
    "    #    2. 예측된 값 중 가장 높은 확률인 word index를 뽑아냅니다\n",
    "    #    3. 2에서 예측된 word index를 문장 뒤에 붙입니다\n",
    "    #    4. 모델이 <end>를 예측했거나, max_len에 도달했다면 문장 생성을 마칩니다\n",
    "    while True:\n",
    "        # 1\n",
    "        predict = model(test_tensor) \n",
    "        # 2\n",
    "        predict_word = tf.argmax(tf.nn.softmax(predict, axis=-1), axis=-1)[:, -1] \n",
    "        # 3 \n",
    "        test_tensor = tf.concat([test_tensor, tf.expand_dims(predict_word, axis=0)], axis=-1)\n",
    "        # 4\n",
    "        if predict_word.numpy()[0] == end_token: break\n",
    "        if test_tensor.shape[1] >= max_len: break\n",
    "\n",
    "    generated = \"\"\n",
    "    # tokenizer를 이용해 word index를 단어로 하나씩 변환합니다 \n",
    "    for word_index in test_tensor[0].numpy():\n",
    "        generated += tokenizer.index_word[word_index] + \" \"\n",
    "\n",
    "    return generated"
   ]
  },
  {
   "cell_type": "code",
   "execution_count": null,
   "id": "proud-chosen",
   "metadata": {},
   "outputs": [],
   "source": [
    "generate_text(model, tokenizer, init_asentence=\"<start> he\")"
   ]
  },
  {
   "cell_type": "markdown",
   "id": "dramatic-thailand",
   "metadata": {},
   "source": [
    "# 고찰\n",
    "\n",
    "- 시간을 너무 빠듯하게 잡은 것 같다. 모델을 학습하는데 생각보다 오래 걸린... (1 step에 약 27분ㅠㅠ)  \n",
    "\n",
    "- 1 step 당 훈련시간을 낮추는 방법을 찾아봐야겠다.\n",
    "\n",
    "- 하이퍼파라미터를 바꿔가며 여러번 시도해보고 고민할 수 있었다.  \n",
    "\n",
    "- 못 다한 학습은 마저 하고 새로 업데이트 시키겠습니다!"
   ]
  },
  {
   "cell_type": "code",
   "execution_count": null,
   "id": "prepared-cleaner",
   "metadata": {},
   "outputs": [],
   "source": []
  }
 ],
 "metadata": {
  "kernelspec": {
   "display_name": "Python 3",
   "language": "python",
   "name": "python3"
  },
  "language_info": {
   "codemirror_mode": {
    "name": "ipython",
    "version": 3
   },
   "file_extension": ".py",
   "mimetype": "text/x-python",
   "name": "python",
   "nbconvert_exporter": "python",
   "pygments_lexer": "ipython3",
   "version": "3.7.9"
  }
 },
 "nbformat": 4,
 "nbformat_minor": 5
}
