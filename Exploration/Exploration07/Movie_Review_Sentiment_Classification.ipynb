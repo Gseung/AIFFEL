{
 "cells": [
  {
   "cell_type": "markdown",
   "id": "powerful-paradise",
   "metadata": {},
   "source": [
    "# 네이버 영화리뷰 감성분석\n",
    "\n",
    "한국어 텍스트의 감정분석을 진행합니다.  \n",
    "이번에 사용할 데이터셋은 네이버 영화의 댓글을 모아 구성된 [Naver sentiment movie corpus](https://github.com/e9t/nsmc)입니다."
   ]
  },
  {
   "cell_type": "markdown",
   "id": "varying-comfort",
   "metadata": {},
   "source": [
    "## 1. 데이터 준비"
   ]
  },
  {
   "cell_type": "code",
   "execution_count": 1,
   "id": "secret-school",
   "metadata": {},
   "outputs": [
    {
     "data": {
      "text/html": [
       "<div>\n",
       "<style scoped>\n",
       "    .dataframe tbody tr th:only-of-type {\n",
       "        vertical-align: middle;\n",
       "    }\n",
       "\n",
       "    .dataframe tbody tr th {\n",
       "        vertical-align: top;\n",
       "    }\n",
       "\n",
       "    .dataframe thead th {\n",
       "        text-align: right;\n",
       "    }\n",
       "</style>\n",
       "<table border=\"1\" class=\"dataframe\">\n",
       "  <thead>\n",
       "    <tr style=\"text-align: right;\">\n",
       "      <th></th>\n",
       "      <th>id</th>\n",
       "      <th>document</th>\n",
       "      <th>label</th>\n",
       "    </tr>\n",
       "  </thead>\n",
       "  <tbody>\n",
       "    <tr>\n",
       "      <th>0</th>\n",
       "      <td>9976970</td>\n",
       "      <td>아 더빙.. 진짜 짜증나네요 목소리</td>\n",
       "      <td>0</td>\n",
       "    </tr>\n",
       "    <tr>\n",
       "      <th>1</th>\n",
       "      <td>3819312</td>\n",
       "      <td>흠...포스터보고 초딩영화줄....오버연기조차 가볍지 않구나</td>\n",
       "      <td>1</td>\n",
       "    </tr>\n",
       "    <tr>\n",
       "      <th>2</th>\n",
       "      <td>10265843</td>\n",
       "      <td>너무재밓었다그래서보는것을추천한다</td>\n",
       "      <td>0</td>\n",
       "    </tr>\n",
       "    <tr>\n",
       "      <th>3</th>\n",
       "      <td>9045019</td>\n",
       "      <td>교도소 이야기구먼 ..솔직히 재미는 없다..평점 조정</td>\n",
       "      <td>0</td>\n",
       "    </tr>\n",
       "    <tr>\n",
       "      <th>4</th>\n",
       "      <td>6483659</td>\n",
       "      <td>사이몬페그의 익살스런 연기가 돋보였던 영화!스파이더맨에서 늙어보이기만 했던 커스틴 ...</td>\n",
       "      <td>1</td>\n",
       "    </tr>\n",
       "  </tbody>\n",
       "</table>\n",
       "</div>"
      ],
      "text/plain": [
       "         id                                           document  label\n",
       "0   9976970                                아 더빙.. 진짜 짜증나네요 목소리      0\n",
       "1   3819312                  흠...포스터보고 초딩영화줄....오버연기조차 가볍지 않구나      1\n",
       "2  10265843                                  너무재밓었다그래서보는것을추천한다      0\n",
       "3   9045019                      교도소 이야기구먼 ..솔직히 재미는 없다..평점 조정      0\n",
       "4   6483659  사이몬페그의 익살스런 연기가 돋보였던 영화!스파이더맨에서 늙어보이기만 했던 커스틴 ...      1"
      ]
     },
     "execution_count": 1,
     "metadata": {},
     "output_type": "execute_result"
    }
   ],
   "source": [
    "import pandas as pd\n",
    "import urllib.request\n",
    "%matplotlib inline\n",
    "import matplotlib.pyplot as plt\n",
    "import re\n",
    "from konlpy.tag import Okt\n",
    "from tensorflow import keras\n",
    "from tensorflow.keras.preprocessing.text import Tokenizer\n",
    "import numpy as np\n",
    "from tensorflow.keras.preprocessing.sequence import pad_sequences\n",
    "from collections import Counter\n",
    "\n",
    "from konlpy.tag import Mecab\n",
    "import os\n",
    "from gensim.models.keyedvectors import Word2VecKeyedVectors\n",
    "\n",
    "# 데이터를 읽어봅시다. \n",
    "train_data = pd.read_table('~/aiffel/sentiment_classification/data/ratings_train.txt')\n",
    "test_data = pd.read_table('~/aiffel/sentiment_classification/data/ratings_test.txt')\n",
    "\n",
    "train_data.head()"
   ]
  },
  {
   "cell_type": "code",
   "execution_count": 6,
   "id": "gross-savannah",
   "metadata": {},
   "outputs": [],
   "source": [
    "tokenizer = Mecab()\n",
    "stopwords = ['의','가','이','은','들','는','좀','잘','걍','과','도','를','으로','자','에','와','한','하다']\n",
    "\n",
    "def load_data(train_data, test_data, num_words=10000):\n",
    "    train_data.drop_duplicates(subset=['document'], inplace=True) # 중복값 제거\n",
    "    train_data = train_data.dropna(how = 'any')  # NA값 제거\n",
    "    \n",
    "    test_data.drop_duplicates(subset=['document'], inplace=True) # 중복값 제거\n",
    "    test_data = test_data.dropna(how = 'any')  # NA값 제거 \n",
    "    \n",
    "    X_train = []\n",
    "    for sentence in train_data['document']:\n",
    "        temp_X = tokenizer.morphs(sentence) # 토큰화\n",
    "        temp_X = [word for word in temp_X if not word in stopwords] # 불용어 제거\n",
    "        X_train.append(temp_X)\n",
    "\n",
    "    X_test = []\n",
    "    for sentence in test_data['document']:\n",
    "        temp_X = tokenizer.morphs(sentence) # 토큰화\n",
    "        temp_X = [word for word in temp_X if not word in stopwords] # 불용어 제거\n",
    "        X_test.append(temp_X)\n",
    "    \n",
    "    words = np.concatenate(X_train).tolist()\n",
    "    counter = Counter(words)\n",
    "    counter = counter.most_common(10000-4)\n",
    "    vocab = ['<PAD>', '<BOS>', '<UNK>', '<UNUSED>'] + [key for key, _ in counter]\n",
    "    word_to_index = {word:index for index, word in enumerate(vocab)} # 딕셔너리에 {텍스트:인덱스} 구조로 저장\n",
    "        \n",
    "    def wordlist_to_indexlist(wordlist):\n",
    "        return [word_to_index[word] if word in word_to_index else word_to_index['<PAD>'] for word in wordlist]\n",
    "        \n",
    "    X_train = list(map(wordlist_to_indexlist, X_train))\n",
    "    X_test = list(map(wordlist_to_indexlist, X_test))\n",
    "        \n",
    "    return X_train, np.array(list(train_data['label'])), X_test, np.array(list(test_data['label'])), word_to_index"
   ]
  },
  {
   "cell_type": "code",
   "execution_count": 7,
   "id": "adaptive-tunisia",
   "metadata": {},
   "outputs": [],
   "source": [
    "X_train, y_train, X_test, y_test, word_to_index = load_data(train_data, test_data)"
   ]
  },
  {
   "cell_type": "code",
   "execution_count": 8,
   "id": "arabic-rabbit",
   "metadata": {},
   "outputs": [
    {
     "name": "stdout",
     "output_type": "stream",
     "text": [
      "훈련 샘플 개수: 146182, 테스트 개수: 49157\n"
     ]
    }
   ],
   "source": [
    "print(\"훈련 샘플 개수: {}, 테스트 개수: {}\".format(len(X_train), len(X_test)))"
   ]
  },
  {
   "cell_type": "code",
   "execution_count": 9,
   "id": "qualified-safety",
   "metadata": {},
   "outputs": [],
   "source": [
    "# {텍스트: 인덱스}에서 {인덱스:텍스트}로 변경\n",
    "\n",
    "index_to_word = {index:word for word, index in word_to_index.items()}"
   ]
  },
  {
   "cell_type": "code",
   "execution_count": 10,
   "id": "enclosed-taxation",
   "metadata": {},
   "outputs": [],
   "source": [
    "# 문장 1개를 활용할 딕셔너리와 함께 주면, 단어 인덱스 리스트 벡터로 변환해 주는 함수입니다. \n",
    "# 단, 모든 문장은 <BOS>로 시작하는 것으로 합니다. \n",
    "def get_encoded_sentence(sentence, word_to_index):\n",
    "    return [word_to_index['<BOS>']]+[word_to_index[word] if word in word_to_index else word_to_index['<UNK>'] for word in sentence.split()]\n",
    "\n",
    "# 여러 개의 문장 리스트를 한꺼번에 단어 인덱스 리스트 벡터로 encode해 주는 함수입니다. \n",
    "def get_encoded_sentences(sentences, word_to_index):\n",
    "    return [get_encoded_sentence(sentence, word_to_index) for sentence in sentences]\n",
    "\n",
    "# 숫자 벡터로 encode된 문장을 원래대로 decode하는 함수입니다. \n",
    "def get_decoded_sentence(encoded_sentence, index_to_word):\n",
    "    return ' '.join(index_to_word[index] if index in index_to_word else '<UNK>' for index in encoded_sentence[1:])  #[1:]를 통해 <BOS>를 제외\n",
    "\n",
    "# 여러 개의 숫자 벡터로 encode된 문장을 한꺼번에 원래대로 decode하는 함수입니다. \n",
    "def get_decoded_sentences(encoded_sentences, index_to_word):\n",
    "    return [get_decoded_sentence(encoded_sentence, index_to_word) for encoded_sentence in encoded_sentences]"
   ]
  },
  {
   "cell_type": "markdown",
   "id": "terminal-tunnel",
   "metadata": {},
   "source": [
    "## 모델구성을 위한 데이터 분석 및 가공"
   ]
  },
  {
   "cell_type": "code",
   "execution_count": 11,
   "id": "certain-wellington",
   "metadata": {},
   "outputs": [
    {
     "name": "stdout",
     "output_type": "stream",
     "text": [
      "[32, 74, 919, 4, 4, 39, 228, 20, 33, 748]\n",
      "라벨:  0\n",
      "1번째 리뷰 문장 길이:  10\n",
      "2번째 리뷰 문장 길이:  17\n"
     ]
    }
   ],
   "source": [
    "print(X_train[0])  # 1번째 리뷰데이터\n",
    "print('라벨: ', y_train[0])  # 1번째 리뷰데이터의 라벨\n",
    "print('1번째 리뷰 문장 길이: ', len(X_train[0]))\n",
    "print('2번째 리뷰 문장 길이: ', len(X_train[1]))"
   ]
  },
  {
   "cell_type": "code",
   "execution_count": 12,
   "id": "average-fence",
   "metadata": {},
   "outputs": [
    {
     "name": "stdout",
     "output_type": "stream",
     "text": [
      "문장길이 평균 :  15.96940191154864\n",
      "문장길이 최대 :  116\n",
      "문장길이 표준편차 :  12.843571191092\n",
      "pad_sequences maxlen :  41\n",
      "전체 문장의 0.9342988343341575%가 maxlen 설정값 이내에 포함됩니다. \n"
     ]
    }
   ],
   "source": [
    "total_data_text = list(X_train) + list(X_test)\n",
    "\n",
    "# 텍스트데이터 문장길이의 리스트를 생성한 후\n",
    "num_tokens = [len(tokens) for tokens in total_data_text]\n",
    "num_tokens = np.array(num_tokens)\n",
    "# 문장길이의 평균값, 최대값, 표준편차를 계산해 본다. \n",
    "print('문장길이 평균 : ', np.mean(num_tokens))\n",
    "print('문장길이 최대 : ', np.max(num_tokens))\n",
    "print('문장길이 표준편차 : ', np.std(num_tokens))\n",
    "\n",
    "# 예를들어, 최대 길이를 (평균 + 2*표준편차)로 지정 \n",
    "max_tokens = np.mean(num_tokens) + 2 * np.std(num_tokens)\n",
    "maxlen = int(max_tokens)\n",
    "print('pad_sequences maxlen : ', maxlen)\n",
    "print('전체 문장의 {}%가 maxlen 설정값 이내에 포함됩니다. '.format(np.sum(num_tokens < max_tokens) / len(num_tokens)))"
   ]
  },
  {
   "cell_type": "code",
   "execution_count": 13,
   "id": "russian-highland",
   "metadata": {},
   "outputs": [
    {
     "name": "stdout",
     "output_type": "stream",
     "text": [
      "(146182, 41)\n",
      "(49157, 41)\n"
     ]
    }
   ],
   "source": [
    "X_train = keras.preprocessing.sequence.pad_sequences(X_train,\n",
    "                                                        value=word_to_index['<PAD>'],\n",
    "                                                        padding='pre',\n",
    "                                                        maxlen=maxlen)\n",
    "\n",
    "X_test = keras.preprocessing.sequence.pad_sequences(X_test,\n",
    "                                                       value=word_to_index['<PAD>'],\n",
    "                                                       padding='pre',\n",
    "                                                       maxlen=maxlen)\n",
    "\n",
    "print(X_train.shape)\n",
    "print(X_test.shape)"
   ]
  },
  {
   "cell_type": "code",
   "execution_count": 14,
   "id": "strange-workplace",
   "metadata": {},
   "outputs": [
    {
     "data": {
      "text/plain": [
       "array([  0,   0,   0,   0,   0,   0,   0,   0,   0,   0,   0,   0,   0,\n",
       "         0,   0,   0,   0,   0,   0,   0,   0,   0,   0,   0,   0,   0,\n",
       "         0,   0,   0,   0,   0,  32,  74, 919,   4,   4,  39, 228,  20,\n",
       "        33, 748], dtype=int32)"
      ]
     },
     "execution_count": 14,
     "metadata": {},
     "output_type": "execute_result"
    }
   ],
   "source": [
    "X_train[0]"
   ]
  },
  {
   "cell_type": "markdown",
   "id": "seasonal-academy",
   "metadata": {},
   "source": [
    "## 모델구성 및 validation set 구성"
   ]
  },
  {
   "cell_type": "code",
   "execution_count": 15,
   "id": "anticipated-responsibility",
   "metadata": {},
   "outputs": [],
   "source": [
    "vocab_size = 10000    # 어휘 사전의 크기\n",
    "word_vector_dim = 41 # 워드 벡터의 차원수 (변경가능한 하이퍼파라미터)"
   ]
  },
  {
   "cell_type": "markdown",
   "id": "lesser-passenger",
   "metadata": {},
   "source": [
    "## 1) GlobalMaxPooling"
   ]
  },
  {
   "cell_type": "code",
   "execution_count": 16,
   "id": "separated-links",
   "metadata": {},
   "outputs": [
    {
     "name": "stdout",
     "output_type": "stream",
     "text": [
      "Model: \"sequential\"\n",
      "_________________________________________________________________\n",
      "Layer (type)                 Output Shape              Param #   \n",
      "=================================================================\n",
      "embedding (Embedding)        (None, None, 41)          410000    \n",
      "_________________________________________________________________\n",
      "global_max_pooling1d (Global (None, 41)                0         \n",
      "_________________________________________________________________\n",
      "dense (Dense)                (None, 8)                 336       \n",
      "_________________________________________________________________\n",
      "dense_1 (Dense)              (None, 1)                 9         \n",
      "=================================================================\n",
      "Total params: 410,345\n",
      "Trainable params: 410,345\n",
      "Non-trainable params: 0\n",
      "_________________________________________________________________\n"
     ]
    }
   ],
   "source": [
    "model1 = keras.Sequential()\n",
    "model1.add(keras.layers.Embedding(vocab_size, word_vector_dim, input_shape=(None,)))\n",
    "model1.add(keras.layers.GlobalMaxPooling1D())\n",
    "model1.add(keras.layers.Dense(8, activation='relu'))\n",
    "model1.add(keras.layers.Dense(1, activation='sigmoid'))  # 최종 출력은 긍정/부정을 나타내는 1dim 입니다.\n",
    "\n",
    "model1.summary()"
   ]
  },
  {
   "cell_type": "markdown",
   "id": "unusual-vegetarian",
   "metadata": {},
   "source": [
    "## 2) LSTM"
   ]
  },
  {
   "cell_type": "code",
   "execution_count": 17,
   "id": "amended-chosen",
   "metadata": {},
   "outputs": [
    {
     "name": "stdout",
     "output_type": "stream",
     "text": [
      "Model: \"LSTM\"\n",
      "_________________________________________________________________\n",
      "Layer (type)                 Output Shape              Param #   \n",
      "=================================================================\n",
      "embedding_1 (Embedding)      (None, None, 41)          410000    \n",
      "_________________________________________________________________\n",
      "lstm (LSTM)                  (None, 8)                 1600      \n",
      "_________________________________________________________________\n",
      "dense_2 (Dense)              (None, 8)                 72        \n",
      "_________________________________________________________________\n",
      "dense_3 (Dense)              (None, 1)                 9         \n",
      "=================================================================\n",
      "Total params: 411,681\n",
      "Trainable params: 411,681\n",
      "Non-trainable params: 0\n",
      "_________________________________________________________________\n"
     ]
    }
   ],
   "source": [
    "model2 = keras.Sequential(name='LSTM')\n",
    "model2.add(keras.layers.Embedding(vocab_size, word_vector_dim, input_shape=(None,)))\n",
    "model2.add(keras.layers.LSTM(8))\n",
    "model2.add(keras.layers.Dense(8, activation='relu'))\n",
    "model2.add(keras.layers.Dense(1, activation='sigmoid'))  # 최종 출력은 긍정/부정을 나타내는 1dim 입니다.\n",
    "\n",
    "model2.summary()"
   ]
  },
  {
   "cell_type": "markdown",
   "id": "atmospheric-quilt",
   "metadata": {},
   "source": [
    "## 3) Convolution Neural Network"
   ]
  },
  {
   "cell_type": "code",
   "execution_count": 18,
   "id": "functional-relations",
   "metadata": {},
   "outputs": [
    {
     "name": "stdout",
     "output_type": "stream",
     "text": [
      "Model: \"CNN\"\n",
      "_________________________________________________________________\n",
      "Layer (type)                 Output Shape              Param #   \n",
      "=================================================================\n",
      "embedding_2 (Embedding)      (None, None, 41)          410000    \n",
      "_________________________________________________________________\n",
      "conv1d (Conv1D)              (None, None, 16)          4608      \n",
      "_________________________________________________________________\n",
      "max_pooling1d (MaxPooling1D) (None, None, 16)          0         \n",
      "_________________________________________________________________\n",
      "conv1d_1 (Conv1D)            (None, None, 16)          1808      \n",
      "_________________________________________________________________\n",
      "global_max_pooling1d_1 (Glob (None, 16)                0         \n",
      "_________________________________________________________________\n",
      "dense_4 (Dense)              (None, 8)                 136       \n",
      "_________________________________________________________________\n",
      "dense_5 (Dense)              (None, 1)                 9         \n",
      "=================================================================\n",
      "Total params: 416,561\n",
      "Trainable params: 416,561\n",
      "Non-trainable params: 0\n",
      "_________________________________________________________________\n"
     ]
    }
   ],
   "source": [
    "model3 = keras.Sequential(name='CNN')\n",
    "model3.add(keras.layers.Embedding(vocab_size, word_vector_dim, input_shape=(None,)))\n",
    "model3.add(keras.layers.Conv1D(16, 7, activation='relu'))\n",
    "model3.add(keras.layers.MaxPooling1D(5))\n",
    "model3.add(keras.layers.Conv1D(16, 7, activation='relu'))\n",
    "model3.add(keras.layers.GlobalMaxPooling1D())\n",
    "model3.add(keras.layers.Dense(8, activation='relu'))\n",
    "model3.add(keras.layers.Dense(1, activation='sigmoid'))  # 최종 출력은 긍정/부정을 나타내는 1dim 입니다.\n",
    "\n",
    "model3.summary()"
   ]
  },
  {
   "cell_type": "code",
   "execution_count": 19,
   "id": "delayed-leader",
   "metadata": {},
   "outputs": [],
   "source": [
    "# validation set 구성\n",
    "\n",
    "from sklearn.model_selection import train_test_split\n",
    "X_train, X_val, y_train, y_val = train_test_split(X_train, y_train,\n",
    "                                                          test_size=0.2,\n",
    "                                                          random_state=7)"
   ]
  },
  {
   "cell_type": "markdown",
   "id": "neutral-deficit",
   "metadata": {},
   "source": [
    "## 모델 훈련 개시"
   ]
  },
  {
   "cell_type": "code",
   "execution_count": 20,
   "id": "hydraulic-worker",
   "metadata": {},
   "outputs": [],
   "source": [
    "from keras.callbacks import EarlyStopping\n",
    "\n",
    "early_stopping = EarlyStopping(monitor='val_loss', mode='min', verbose=1, patience=10)"
   ]
  },
  {
   "cell_type": "code",
   "execution_count": 21,
   "id": "honest-refrigerator",
   "metadata": {},
   "outputs": [
    {
     "name": "stdout",
     "output_type": "stream",
     "text": [
      "Epoch 1/20\n",
      "229/229 [==============================] - 3s 9ms/step - loss: 0.6199 - accuracy: 0.7406 - val_loss: 0.3871 - val_accuracy: 0.8310\n",
      "Epoch 2/20\n",
      "229/229 [==============================] - 2s 8ms/step - loss: 0.3449 - accuracy: 0.8533 - val_loss: 0.3577 - val_accuracy: 0.8442\n",
      "Epoch 3/20\n",
      "229/229 [==============================] - 2s 8ms/step - loss: 0.2938 - accuracy: 0.8791 - val_loss: 0.3561 - val_accuracy: 0.8480\n",
      "Epoch 4/20\n",
      "229/229 [==============================] - 2s 8ms/step - loss: 0.2614 - accuracy: 0.8943 - val_loss: 0.3615 - val_accuracy: 0.8477\n",
      "Epoch 5/20\n",
      "229/229 [==============================] - 2s 8ms/step - loss: 0.2349 - accuracy: 0.9073 - val_loss: 0.3727 - val_accuracy: 0.8467\n",
      "Epoch 6/20\n",
      "229/229 [==============================] - 2s 8ms/step - loss: 0.2128 - accuracy: 0.9183 - val_loss: 0.3878 - val_accuracy: 0.8444\n",
      "Epoch 7/20\n",
      "229/229 [==============================] - 2s 8ms/step - loss: 0.1867 - accuracy: 0.9298 - val_loss: 0.4034 - val_accuracy: 0.8433\n",
      "Epoch 8/20\n",
      "229/229 [==============================] - 2s 8ms/step - loss: 0.1679 - accuracy: 0.9398 - val_loss: 0.4229 - val_accuracy: 0.8414\n",
      "Epoch 9/20\n",
      "229/229 [==============================] - 2s 8ms/step - loss: 0.1477 - accuracy: 0.9484 - val_loss: 0.4445 - val_accuracy: 0.8383\n",
      "Epoch 10/20\n",
      "229/229 [==============================] - 2s 8ms/step - loss: 0.1319 - accuracy: 0.9560 - val_loss: 0.4699 - val_accuracy: 0.8372\n",
      "Epoch 11/20\n",
      "229/229 [==============================] - 2s 8ms/step - loss: 0.1182 - accuracy: 0.9614 - val_loss: 0.4971 - val_accuracy: 0.8330\n",
      "Epoch 12/20\n",
      "229/229 [==============================] - 2s 8ms/step - loss: 0.1022 - accuracy: 0.9674 - val_loss: 0.5207 - val_accuracy: 0.8334\n",
      "Epoch 13/20\n",
      "229/229 [==============================] - 2s 8ms/step - loss: 0.0921 - accuracy: 0.9722 - val_loss: 0.5533 - val_accuracy: 0.8311\n",
      "Epoch 00013: early stopping\n"
     ]
    }
   ],
   "source": [
    "model1.compile(optimizer='adam',\n",
    "              loss='binary_crossentropy',\n",
    "              metrics=['accuracy'])\n",
    "              \n",
    "epochs=20  # 몇 epoch를 훈련하면 좋을지 결과를 보면서 바꾸어 봅시다. \n",
    "\n",
    "history1 = model1.fit(X_train,\n",
    "                    y_train,\n",
    "                    epochs=epochs,\n",
    "                    batch_size=512,\n",
    "                    validation_data=(X_val, y_val),\n",
    "                    callbacks=[early_stopping],\n",
    "                    verbose=1)"
   ]
  },
  {
   "cell_type": "code",
   "execution_count": 22,
   "id": "photographic-sunglasses",
   "metadata": {},
   "outputs": [
    {
     "name": "stdout",
     "output_type": "stream",
     "text": [
      "Epoch 1/20\n",
      "229/229 [==============================] - 6s 14ms/step - loss: 0.5918 - accuracy: 0.7100 - val_loss: 0.3735 - val_accuracy: 0.8411\n",
      "Epoch 2/20\n",
      "229/229 [==============================] - 3s 12ms/step - loss: 0.3374 - accuracy: 0.8597 - val_loss: 0.3661 - val_accuracy: 0.8431\n",
      "Epoch 3/20\n",
      "229/229 [==============================] - 3s 13ms/step - loss: 0.3142 - accuracy: 0.8710 - val_loss: 0.3641 - val_accuracy: 0.8467\n",
      "Epoch 4/20\n",
      "229/229 [==============================] - 3s 12ms/step - loss: 0.2968 - accuracy: 0.8796 - val_loss: 0.3649 - val_accuracy: 0.8441\n",
      "Epoch 5/20\n",
      "229/229 [==============================] - 3s 13ms/step - loss: 0.2854 - accuracy: 0.8848 - val_loss: 0.3652 - val_accuracy: 0.8438\n",
      "Epoch 6/20\n",
      "229/229 [==============================] - 3s 13ms/step - loss: 0.2778 - accuracy: 0.8881 - val_loss: 0.3660 - val_accuracy: 0.8457\n",
      "Epoch 7/20\n",
      "229/229 [==============================] - 3s 12ms/step - loss: 0.2667 - accuracy: 0.8954 - val_loss: 0.3657 - val_accuracy: 0.8468\n",
      "Epoch 8/20\n",
      "229/229 [==============================] - 3s 12ms/step - loss: 0.2601 - accuracy: 0.8992 - val_loss: 0.3721 - val_accuracy: 0.8452\n",
      "Epoch 9/20\n",
      "229/229 [==============================] - 3s 12ms/step - loss: 0.2468 - accuracy: 0.9040 - val_loss: 0.3747 - val_accuracy: 0.8457\n",
      "Epoch 10/20\n",
      "229/229 [==============================] - 3s 13ms/step - loss: 0.2359 - accuracy: 0.9096 - val_loss: 0.3778 - val_accuracy: 0.8465\n",
      "Epoch 11/20\n",
      "229/229 [==============================] - 3s 13ms/step - loss: 0.2273 - accuracy: 0.9139 - val_loss: 0.3817 - val_accuracy: 0.8450\n",
      "Epoch 12/20\n",
      "229/229 [==============================] - 3s 13ms/step - loss: 0.2191 - accuracy: 0.9167 - val_loss: 0.3915 - val_accuracy: 0.8444\n",
      "Epoch 13/20\n",
      "229/229 [==============================] - 3s 13ms/step - loss: 0.2081 - accuracy: 0.9223 - val_loss: 0.3953 - val_accuracy: 0.8453\n",
      "Epoch 00013: early stopping\n"
     ]
    }
   ],
   "source": [
    "model2.compile(optimizer='adam',\n",
    "              loss='binary_crossentropy',\n",
    "              metrics=['accuracy'])\n",
    "              \n",
    "epochs=20  # 몇 epoch를 훈련하면 좋을지 결과를 보면서 바꾸어 봅시다. \n",
    "\n",
    "history2 = model2.fit(X_train,\n",
    "                    y_train,\n",
    "                    epochs=epochs,\n",
    "                    batch_size=512,\n",
    "                    validation_data=(X_val, y_val),\n",
    "                    callbacks=[early_stopping],\n",
    "                    verbose=1)"
   ]
  },
  {
   "cell_type": "code",
   "execution_count": 23,
   "id": "figured-illness",
   "metadata": {},
   "outputs": [
    {
     "name": "stdout",
     "output_type": "stream",
     "text": [
      "Epoch 1/20\n",
      "229/229 [==============================] - 11s 30ms/step - loss: 0.5870 - accuracy: 0.6743 - val_loss: 0.3617 - val_accuracy: 0.8437\n",
      "Epoch 2/20\n",
      "229/229 [==============================] - 3s 11ms/step - loss: 0.3178 - accuracy: 0.8660 - val_loss: 0.3480 - val_accuracy: 0.8503\n",
      "Epoch 3/20\n",
      "229/229 [==============================] - 2s 11ms/step - loss: 0.2742 - accuracy: 0.8874 - val_loss: 0.3453 - val_accuracy: 0.8528\n",
      "Epoch 4/20\n",
      "229/229 [==============================] - 2s 11ms/step - loss: 0.2333 - accuracy: 0.9086 - val_loss: 0.3601 - val_accuracy: 0.8517\n",
      "Epoch 5/20\n",
      "229/229 [==============================] - 2s 11ms/step - loss: 0.1901 - accuracy: 0.9298 - val_loss: 0.3908 - val_accuracy: 0.8456\n",
      "Epoch 6/20\n",
      "229/229 [==============================] - 2s 11ms/step - loss: 0.1458 - accuracy: 0.9499 - val_loss: 0.4428 - val_accuracy: 0.8439\n",
      "Epoch 7/20\n",
      "229/229 [==============================] - 3s 11ms/step - loss: 0.1075 - accuracy: 0.9654 - val_loss: 0.4974 - val_accuracy: 0.8360\n",
      "Epoch 8/20\n",
      "229/229 [==============================] - 2s 11ms/step - loss: 0.0795 - accuracy: 0.9757 - val_loss: 0.5696 - val_accuracy: 0.8348\n",
      "Epoch 9/20\n",
      "229/229 [==============================] - 2s 11ms/step - loss: 0.0570 - accuracy: 0.9835 - val_loss: 0.6139 - val_accuracy: 0.8332\n",
      "Epoch 10/20\n",
      "229/229 [==============================] - 2s 10ms/step - loss: 0.0447 - accuracy: 0.9873 - val_loss: 0.6797 - val_accuracy: 0.8317\n",
      "Epoch 11/20\n",
      "229/229 [==============================] - 2s 11ms/step - loss: 0.0345 - accuracy: 0.9906 - val_loss: 0.7373 - val_accuracy: 0.8307\n",
      "Epoch 12/20\n",
      "229/229 [==============================] - 2s 11ms/step - loss: 0.0293 - accuracy: 0.9914 - val_loss: 0.7929 - val_accuracy: 0.8275\n",
      "Epoch 13/20\n",
      "229/229 [==============================] - 2s 11ms/step - loss: 0.0249 - accuracy: 0.9927 - val_loss: 0.8517 - val_accuracy: 0.8264\n",
      "Epoch 00013: early stopping\n"
     ]
    }
   ],
   "source": [
    "model3.compile(optimizer='adam',\n",
    "              loss='binary_crossentropy',\n",
    "              metrics=['accuracy'])\n",
    "              \n",
    "epochs=20  # 몇 epoch를 훈련하면 좋을지 결과를 보면서 바꾸어 봅시다. \n",
    "\n",
    "history3 = model3.fit(X_train,\n",
    "                    y_train,\n",
    "                    epochs=epochs,\n",
    "                    batch_size=512,\n",
    "                    validation_data=(X_val, y_val),\n",
    "                    callbacks=[early_stopping],\n",
    "                    verbose=1)"
   ]
  },
  {
   "cell_type": "code",
   "execution_count": 24,
   "id": "cleared-shower",
   "metadata": {},
   "outputs": [
    {
     "name": "stdout",
     "output_type": "stream",
     "text": [
      "1537/1537 - 2s - loss: 0.5461 - accuracy: 0.8309\n",
      "1537/1537 - 5s - loss: 0.3949 - accuracy: 0.8430\n",
      "1537/1537 - 5s - loss: 0.8415 - accuracy: 0.8279\n"
     ]
    }
   ],
   "source": [
    "results1 = model1.evaluate(X_test,  y_test, verbose=2)\n",
    "results2 = model2.evaluate(X_test,  y_test, verbose=2)\n",
    "results3 = model3.evaluate(X_test,  y_test, verbose=2)"
   ]
  },
  {
   "cell_type": "markdown",
   "id": "restricted-reader",
   "metadata": {},
   "source": [
    "# Loss, Accuracy 그래프 시각화"
   ]
  },
  {
   "cell_type": "code",
   "execution_count": 25,
   "id": "floppy-manufacturer",
   "metadata": {},
   "outputs": [
    {
     "name": "stdout",
     "output_type": "stream",
     "text": [
      "dict_keys(['loss', 'accuracy', 'val_loss', 'val_accuracy'])\n"
     ]
    }
   ],
   "source": [
    "import matplotlib.pyplot as plt\n",
    "\n",
    "history1_dict = history1.history\n",
    "history2_dict = history2.history\n",
    "history3_dict = history3.history\n",
    "\n",
    "print(history1_dict.keys()) # epoch에 따른 그래프를 그려볼 수 있는 항목들"
   ]
  },
  {
   "cell_type": "code",
   "execution_count": 26,
   "id": "organic-emergency",
   "metadata": {},
   "outputs": [
    {
     "data": {
      "text/plain": [
       "<Figure size 432x288 with 0 Axes>"
      ]
     },
     "metadata": {},
     "output_type": "display_data"
    },
    {
     "data": {
      "image/png": "[encoded data removed]",
      "text/plain": [
       "<Figure size 1440x360 with 2 Axes>"
      ]
     },
     "metadata": {
      "needs_background": "light"
     },
     "output_type": "display_data"
    }
   ],
   "source": [
    "# GlobalMaxPooling1D 그래프\n",
    "\n",
    "acc = history1_dict['accuracy']\n",
    "val_acc = history1_dict['val_accuracy']\n",
    "loss = history1_dict['loss']\n",
    "val_loss = history1_dict['val_loss']\n",
    "\n",
    "epochs = range(1, len(acc) + 1)\n",
    "\n",
    "plt.clf() \n",
    "\n",
    "plt.figure(figsize=(20,5))\n",
    "\n",
    "plt.subplot(121)\n",
    "plt.plot(epochs, loss, 'b', label='Training loss')\n",
    "plt.plot(epochs, val_loss, 'r', label='Validation loss')\n",
    "plt.title('Training and validation loss')\n",
    "plt.xlabel('Epochs')\n",
    "plt.ylabel('Loss')\n",
    "plt.legend()\n",
    "\n",
    "plt.subplot(122)\n",
    "plt.plot(epochs, acc, 'b', label='Training acc')\n",
    "plt.plot(epochs, val_acc, 'r', label='Validation acc')\n",
    "plt.title('Training and validation accuracy')\n",
    "plt.xlabel('Epochs')\n",
    "plt.ylabel('Accuracy')\n",
    "plt.legend()\n",
    "\n",
    "plt.show()"
   ]
  },
  {
   "cell_type": "code",
   "execution_count": 27,
   "id": "disabled-brunei",
   "metadata": {},
   "outputs": [
    {
     "data": {
      "image/png": "[encoded data removed]",
      "text/plain": [
       "<Figure size 1440x360 with 2 Axes>"
      ]
     },
     "metadata": {
      "needs_background": "light"
     },
     "output_type": "display_data"
    }
   ],
   "source": [
    "# LSTM 그래프\n",
    "\n",
    "acc = history2_dict['accuracy']\n",
    "val_acc = history2_dict['val_accuracy']\n",
    "loss = history2_dict['loss']\n",
    "val_loss = history2_dict['val_loss']\n",
    "\n",
    "epochs = range(1, len(acc) + 1)\n",
    "\n",
    "plt.figure(figsize=(20,5))\n",
    "\n",
    "plt.subplot(121)\n",
    "plt.plot(epochs, loss, 'b', label='Training loss')\n",
    "plt.plot(epochs, val_loss, 'r', label='Validation loss')\n",
    "plt.title('Training and validation loss')\n",
    "plt.xlabel('Epochs')\n",
    "plt.ylabel('Loss')\n",
    "plt.legend()\n",
    "\n",
    "plt.subplot(122)\n",
    "plt.plot(epochs, acc, 'b', label='Training acc')\n",
    "plt.plot(epochs, val_acc, 'r', label='Validation acc')\n",
    "plt.title('Training and validation accuracy')\n",
    "plt.xlabel('Epochs')\n",
    "plt.ylabel('Accuracy')\n",
    "plt.legend()\n",
    "\n",
    "plt.show()"
   ]
  },
  {
   "cell_type": "code",
   "execution_count": 28,
   "id": "expired-interview",
   "metadata": {},
   "outputs": [
    {
     "data": {
      "image/png": "[encoded data removed]",
      "text/plain": [
       "<Figure size 1440x360 with 2 Axes>"
      ]
     },
     "metadata": {
      "needs_background": "light"
     },
     "output_type": "display_data"
    }
   ],
   "source": [
    "# CNN 그래프\n",
    "\n",
    "acc = history3_dict['accuracy']\n",
    "val_acc = history3_dict['val_accuracy']\n",
    "loss = history3_dict['loss']\n",
    "val_loss = history3_dict['val_loss']\n",
    "\n",
    "epochs = range(1, len(acc) + 1)\n",
    "\n",
    "plt.figure(figsize=(20,5))\n",
    "\n",
    "plt.subplot(121)\n",
    "plt.plot(epochs, loss, 'b', label='Training loss')\n",
    "plt.plot(epochs, val_loss, 'r', label='Validation loss')\n",
    "plt.title('Training and validation loss')\n",
    "plt.xlabel('Epochs')\n",
    "plt.ylabel('Loss')\n",
    "plt.legend()\n",
    "\n",
    "plt.subplot(122)\n",
    "plt.plot(epochs, acc, 'b', label='Training acc')\n",
    "plt.plot(epochs, val_acc, 'r', label='Validation acc')\n",
    "plt.title('Training and validation accuracy')\n",
    "plt.xlabel('Epochs')\n",
    "plt.ylabel('Accuracy')\n",
    "plt.legend()\n",
    "\n",
    "plt.show()"
   ]
  },
  {
   "cell_type": "markdown",
   "id": "experimental-producer",
   "metadata": {},
   "source": [
    "## 학습된 Embedding 레이어 분석"
   ]
  },
  {
   "cell_type": "code",
   "execution_count": 29,
   "id": "peripheral-violin",
   "metadata": {},
   "outputs": [
    {
     "name": "stdout",
     "output_type": "stream",
     "text": [
      "(10000, 41)\n"
     ]
    }
   ],
   "source": [
    "embedding_layer = model2.layers[0]\n",
    "weights = embedding_layer.get_weights()[0]\n",
    "print(weights.shape)    # shape: (vocab_size, embedding_dim)"
   ]
  },
  {
   "cell_type": "code",
   "execution_count": 30,
   "id": "spare-recovery",
   "metadata": {},
   "outputs": [],
   "source": [
    "# 학습한 Embedding 파라미터를 파일에 써서 저장합니다. \n",
    "word2vec_file_path = os.getenv('HOME')+'/aiffel/sentiment_classification/data/word2vec.txt'\n",
    "f = open(word2vec_file_path, 'w')\n",
    "f.write('{} {}\\n'.format(vocab_size-4, word_vector_dim))  # 몇개의 벡터를 얼마 사이즈로 기재할지 타이틀을 씁니다.\n",
    "\n",
    "# 단어 개수(에서 특수문자 4개는 제외하고)만큼의 워드 벡터를 파일에 기록합니다. \n",
    "vectors = model2.get_weights()[0]\n",
    "for i in range(4,vocab_size):\n",
    "    f.write('{} {}\\n'.format(index_to_word[i], ' '.join(map(str, list(vectors[i, :])))))\n",
    "f.close()"
   ]
  },
  {
   "cell_type": "code",
   "execution_count": 31,
   "id": "composite-genius",
   "metadata": {},
   "outputs": [
    {
     "data": {
      "text/plain": [
       "array([-1.27514884e-01, -2.62219042e-01,  5.27439378e-02, -2.50130240e-02,\n",
       "       -9.78279486e-02,  7.10882843e-02, -1.96538836e-01, -3.11686806e-02,\n",
       "       -4.40386795e-02,  1.15061775e-01, -1.20470531e-01,  1.03324980e-01,\n",
       "        1.18594393e-01, -9.34839845e-02,  1.56912401e-01, -6.66635577e-03,\n",
       "        1.06173739e-01,  1.05865061e-01, -4.36652750e-02, -7.73522258e-02,\n",
       "        1.96158158e-04, -1.01748854e-01,  9.47860032e-02, -1.31286494e-02,\n",
       "       -5.18954024e-02, -4.96742781e-03, -1.24621607e-01, -6.55496567e-02,\n",
       "        6.38611168e-02,  1.63148403e-01,  6.31174147e-02, -3.39026563e-02,\n",
       "       -5.15533872e-02,  8.85749310e-02,  4.47758809e-02, -1.01761073e-01,\n",
       "        5.56289777e-02, -2.10854951e-02, -6.27977476e-02,  9.69586661e-04,\n",
       "       -1.64646491e-01], dtype=float32)"
      ]
     },
     "execution_count": 31,
     "metadata": {},
     "output_type": "execute_result"
    }
   ],
   "source": [
    "word_vectors = Word2VecKeyedVectors.load_word2vec_format(word2vec_file_path, binary=False)\n",
    "vector = word_vectors['만족']\n",
    "vector"
   ]
  },
  {
   "cell_type": "code",
   "execution_count": 32,
   "id": "coupled-ridge",
   "metadata": {},
   "outputs": [
    {
     "data": {
      "text/plain": [
       "[('다스', 0.8133465051651001),\n",
       " ('캡', 0.8036590814590454),\n",
       " ('난생', 0.797137975692749),\n",
       " ('소망', 0.7957144379615784),\n",
       " ('울려', 0.7956303358078003),\n",
       " ('후세', 0.7953886389732361),\n",
       " ('김윤석', 0.7751271724700928),\n",
       " ('볼게요', 0.7751164436340332),\n",
       " ('슴다', 0.7722334861755371),\n",
       " ('겠다는', 0.7718525528907776)]"
      ]
     },
     "execution_count": 32,
     "metadata": {},
     "output_type": "execute_result"
    }
   ],
   "source": [
    "word_vectors.similar_by_word(\"놀람\")"
   ]
  },
  {
   "cell_type": "markdown",
   "id": "attached-champion",
   "metadata": {},
   "source": [
    "## 한국어 Word2Vec 임베딩 활용하여 성능개선"
   ]
  },
  {
   "cell_type": "code",
   "execution_count": 33,
   "id": "changing-signal",
   "metadata": {},
   "outputs": [],
   "source": [
    "from gensim.models import Word2Vec\n",
    "word2vec_path = os.getenv('HOME')+'/aiffel/sentiment_classification/ko.bin'"
   ]
  },
  {
   "cell_type": "code",
   "execution_count": 34,
   "id": "raised-islam",
   "metadata": {},
   "outputs": [],
   "source": [
    "word2vec = Word2Vec.load(word2vec_path)"
   ]
  },
  {
   "cell_type": "code",
   "execution_count": 35,
   "id": "working-revision",
   "metadata": {},
   "outputs": [
    {
     "name": "stderr",
     "output_type": "stream",
     "text": [
      "/opt/conda/lib/python3.7/site-packages/ipykernel_launcher.py:2: DeprecationWarning: Call to deprecated `__getitem__` (Method will be removed in 4.0.0, use self.wv.__getitem__() instead).\n",
      "  \n"
     ]
    },
    {
     "data": {
      "text/plain": [
       "array([-1.3740246 , -1.7353463 ,  3.3915305 , -2.569253  , -1.4016607 ,\n",
       "        1.4556127 ,  0.9414557 ,  1.9207907 ,  0.16471806,  0.4838317 ,\n",
       "       -0.8547181 ,  2.0879807 ,  0.86741775,  0.87539405, -0.09962013,\n",
       "        0.22928311, -1.1858722 ,  0.00858838,  1.4999928 , -0.16196461,\n",
       "       -0.35184434, -0.92390764,  1.0849575 ,  0.3025011 ,  2.7021565 ,\n",
       "       -1.0263684 ,  0.32864776, -0.76589465, -2.510981  , -0.66225356,\n",
       "        2.8434615 ,  0.50130975, -1.021874  , -1.4366034 ,  1.1110784 ,\n",
       "        0.5812605 , -0.5830406 , -0.5785423 ,  1.3634988 ,  2.3074338 ,\n",
       "       -1.4314893 ,  0.45745876,  1.1073523 , -3.2135262 , -0.2898375 ,\n",
       "       -1.1622221 ,  1.2369208 , -0.7622987 , -0.37757635,  1.1376442 ,\n",
       "        0.01065568, -0.69105595,  1.5159112 ,  1.1534518 , -1.0119992 ,\n",
       "       -0.5757404 ,  1.1349088 , -1.1289831 ,  0.13004152,  2.0451715 ,\n",
       "       -0.23940353,  1.3604902 ,  0.72700524,  0.32545742,  1.0612459 ,\n",
       "        0.42252553,  1.1442151 ,  2.8774905 ,  2.4377263 , -1.340305  ,\n",
       "        0.12629706, -0.07772489, -0.59053177, -0.19007324,  0.1396541 ,\n",
       "       -1.8655105 ,  0.9401054 ,  0.5150856 ,  0.7795373 , -0.86505556,\n",
       "        0.11842118, -1.8303713 ,  1.337177  , -1.0102932 , -0.37180334,\n",
       "        0.00893255, -0.49141577, -1.05802   , -2.5987291 ,  0.9731856 ,\n",
       "        0.34080654, -2.5973568 ,  1.0046519 , -1.3914212 , -0.6504351 ,\n",
       "       -0.9010805 , -1.1341541 ,  0.75565654,  1.2941337 ,  0.0880572 ,\n",
       "       -1.0341461 , -0.1750075 , -0.01880708, -1.0835075 , -2.0333962 ,\n",
       "        1.1372623 ,  1.0626172 , -1.8369784 , -2.2662086 , -3.382057  ,\n",
       "        1.6751666 , -0.2988223 , -0.25563756, -1.5594274 ,  0.6313433 ,\n",
       "       -1.2667153 , -1.6857744 , -1.0949599 ,  0.7742313 , -0.6095523 ,\n",
       "        3.19503   ,  0.13200459,  1.7937473 , -2.8782516 ,  1.3821276 ,\n",
       "        2.2895143 ,  0.0741943 , -0.41046414,  1.438796  ,  0.19373988,\n",
       "        1.4294034 ,  1.5025262 ,  1.4849502 ,  1.5754777 ,  2.7793512 ,\n",
       "       -0.6885003 , -0.30154693, -1.708323  ,  1.1030879 , -2.2597387 ,\n",
       "        1.1909146 ,  2.4399316 ,  0.3990314 ,  0.904154  ,  0.5454401 ,\n",
       "       -1.3235748 , -0.64812386,  0.22390233,  0.9657619 , -0.47360668,\n",
       "       -0.10278235, -1.0679734 , -0.91414386,  0.92069   ,  0.3549338 ,\n",
       "        0.32858834,  0.84870636,  3.596926  , -1.6651102 ,  0.23658653,\n",
       "        1.0515738 ,  0.40531915, -0.773514  , -0.93460965, -0.3946274 ,\n",
       "       -1.5657727 ,  1.183652  ,  2.5277    ,  0.57700926,  1.7051374 ,\n",
       "       -1.8249958 , -2.0328498 ,  0.6617798 ,  0.85747904,  0.31782728,\n",
       "       -1.1660796 ,  0.32923874,  2.2055087 , -0.12782003,  2.0455444 ,\n",
       "       -0.1724252 ,  0.46001154,  1.559042  , -1.6152996 , -0.84242785,\n",
       "        0.7553168 ,  0.39734274,  0.07714175,  0.05610155,  0.32837135,\n",
       "        1.0220716 ,  1.3816743 ,  0.8049544 ,  0.28728685, -0.97610044,\n",
       "        0.8861181 , -0.01250968, -1.4845604 , -1.5236791 , -1.5451258 ],\n",
       "      dtype=float32)"
      ]
     },
     "execution_count": 35,
     "metadata": {},
     "output_type": "execute_result"
    }
   ],
   "source": [
    "word2vec = Word2Vec.load(word2vec_path)\n",
    "vector = word2vec['사랑']\n",
    "vector"
   ]
  },
  {
   "cell_type": "code",
   "execution_count": 40,
   "id": "ultimate-morocco",
   "metadata": {},
   "outputs": [
    {
     "name": "stderr",
     "output_type": "stream",
     "text": [
      "/opt/conda/lib/python3.7/site-packages/ipykernel_launcher.py:8: DeprecationWarning: Call to deprecated `__contains__` (Method will be removed in 4.0.0, use self.wv.__contains__() instead).\n",
      "  \n",
      "/opt/conda/lib/python3.7/site-packages/ipykernel_launcher.py:9: DeprecationWarning: Call to deprecated `__getitem__` (Method will be removed in 4.0.0, use self.wv.__getitem__() instead).\n",
      "  if __name__ == '__main__':\n"
     ]
    }
   ],
   "source": [
    "vocab_size = 10000    # 어휘 사전의 크기입니다(10,000개의 단어)\n",
    "word_vector_dim = 200  # 워드 벡터의 차원수 (변경가능한 하이퍼파라미터)\n",
    "\n",
    "embedding_matrix = np.random.rand(vocab_size, word_vector_dim)\n",
    "\n",
    "# embedding_matrix에 Word2Vec 워드 벡터를 단어 하나씩마다 차례차례 카피한다.\n",
    "for i in range(4,vocab_size):\n",
    "    if index_to_word[i] in word2vec:\n",
    "        embedding_matrix[i] = word2vec[index_to_word[i]]"
   ]
  },
  {
   "cell_type": "code",
   "execution_count": 41,
   "id": "subjective-pickup",
   "metadata": {},
   "outputs": [
    {
     "name": "stdout",
     "output_type": "stream",
     "text": [
      "Model: \"sequential_3\"\n",
      "_________________________________________________________________\n",
      "Layer (type)                 Output Shape              Param #   \n",
      "=================================================================\n",
      "embedding_5 (Embedding)      (None, 41, 200)           2000000   \n",
      "_________________________________________________________________\n",
      "lstm_1 (LSTM)                (None, 512)               1460224   \n",
      "_________________________________________________________________\n",
      "dense_6 (Dense)              (None, 8)                 4104      \n",
      "_________________________________________________________________\n",
      "dense_7 (Dense)              (None, 1)                 9         \n",
      "=================================================================\n",
      "Total params: 3,464,337\n",
      "Trainable params: 3,464,337\n",
      "Non-trainable params: 0\n",
      "_________________________________________________________________\n"
     ]
    }
   ],
   "source": [
    "# 모델 구성\n",
    "model4 = keras.Sequential()\n",
    "model4.add(keras.layers.Embedding(vocab_size, \n",
    "                                 word_vector_dim, \n",
    "                                 embeddings_initializer=Constant(embedding_matrix),  # 카피한 임베딩을 여기서 활용\n",
    "                                 input_length=maxlen,\n",
    "                                 trainable=True))   # trainable을 True로 주면 Fine-tuning\n",
    "model4.add(keras.layers.LSTM(512))\n",
    "model4.add(keras.layers.Dense(8, activation='relu'))\n",
    "model4.add(keras.layers.Dense(1, activation='sigmoid'))  # 최종 출력은 긍정/부정을 나타내는 1dim 입니다.\n",
    "\n",
    "model4.summary()"
   ]
  },
  {
   "cell_type": "code",
   "execution_count": 42,
   "id": "federal-contribution",
   "metadata": {},
   "outputs": [
    {
     "name": "stdout",
     "output_type": "stream",
     "text": [
      "Epoch 1/20\n",
      "229/229 [==============================] - 36s 149ms/step - loss: 0.5244 - accuracy: 0.7296 - val_loss: 0.3730 - val_accuracy: 0.8340\n",
      "Epoch 2/20\n",
      "229/229 [==============================] - 34s 148ms/step - loss: 0.3242 - accuracy: 0.8592 - val_loss: 0.3375 - val_accuracy: 0.8510\n",
      "Epoch 3/20\n",
      "229/229 [==============================] - 34s 148ms/step - loss: 0.2696 - accuracy: 0.8867 - val_loss: 0.3259 - val_accuracy: 0.8634\n",
      "Epoch 4/20\n",
      "229/229 [==============================] - 34s 149ms/step - loss: 0.2284 - accuracy: 0.9060 - val_loss: 0.3395 - val_accuracy: 0.8621\n",
      "Epoch 5/20\n",
      "229/229 [==============================] - 34s 149ms/step - loss: 0.1850 - accuracy: 0.9265 - val_loss: 0.3602 - val_accuracy: 0.8642\n",
      "Epoch 6/20\n",
      "229/229 [==============================] - 34s 150ms/step - loss: 0.1401 - accuracy: 0.9448 - val_loss: 0.3891 - val_accuracy: 0.8579\n",
      "Epoch 7/20\n",
      "229/229 [==============================] - 34s 149ms/step - loss: 0.1052 - accuracy: 0.9584 - val_loss: 0.4500 - val_accuracy: 0.8619\n",
      "Epoch 8/20\n",
      "229/229 [==============================] - 34s 150ms/step - loss: 0.0719 - accuracy: 0.9724 - val_loss: 0.5125 - val_accuracy: 0.8568\n",
      "Epoch 9/20\n",
      "229/229 [==============================] - 34s 150ms/step - loss: 0.0549 - accuracy: 0.9787 - val_loss: 0.6110 - val_accuracy: 0.8577\n",
      "Epoch 10/20\n",
      "229/229 [==============================] - 34s 150ms/step - loss: 0.0408 - accuracy: 0.9845 - val_loss: 0.6504 - val_accuracy: 0.8551\n",
      "Epoch 11/20\n",
      "229/229 [==============================] - 34s 150ms/step - loss: 0.0359 - accuracy: 0.9862 - val_loss: 0.7541 - val_accuracy: 0.8555\n",
      "Epoch 12/20\n",
      "229/229 [==============================] - 34s 150ms/step - loss: 0.0269 - accuracy: 0.9893 - val_loss: 0.7598 - val_accuracy: 0.8558\n",
      "Epoch 13/20\n",
      "229/229 [==============================] - 34s 150ms/step - loss: 0.0251 - accuracy: 0.9900 - val_loss: 0.7992 - val_accuracy: 0.8530\n",
      "Epoch 00013: early stopping\n"
     ]
    }
   ],
   "source": [
    "model4.compile(optimizer='adam',\n",
    "              loss='binary_crossentropy',\n",
    "              metrics=['accuracy'])\n",
    "              \n",
    "epochs=20  # 몇 epoch를 훈련하면 좋을지 결과를 보면서 바꾸어 봅시다. \n",
    "\n",
    "history4 = model4.fit(X_train,\n",
    "                    y_train,\n",
    "                    epochs=epochs,\n",
    "                    batch_size=512,\n",
    "                    validation_data=(X_val, y_val),\n",
    "                    callbacks=[early_stopping],\n",
    "                    verbose=1)"
   ]
  },
  {
   "cell_type": "code",
   "execution_count": 43,
   "id": "wrapped-pressing",
   "metadata": {},
   "outputs": [
    {
     "name": "stdout",
     "output_type": "stream",
     "text": [
      "1537/1537 - 13s - loss: 0.7826 - accuracy: 0.8516\n"
     ]
    }
   ],
   "source": [
    "results = model4.evaluate(X_test, y_test, verbose=2)"
   ]
  },
  {
   "cell_type": "code",
   "execution_count": null,
   "id": "intelligent-letter",
   "metadata": {},
   "outputs": [],
   "source": []
  }
 ],
 "metadata": {
  "kernelspec": {
   "display_name": "Python 3",
   "language": "python",
   "name": "python3"
  },
  "language_info": {
   "codemirror_mode": {
    "name": "ipython",
    "version": 3
   },
   "file_extension": ".py",
   "mimetype": "text/x-python",
   "name": "python",
   "nbconvert_exporter": "python",
   "pygments_lexer": "ipython3",
   "version": "3.7.9"
  }
 },
 "nbformat": 4,
 "nbformat_minor": 5
}
