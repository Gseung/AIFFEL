{
 "cells": [
  {
   "cell_type": "markdown",
   "id": "surprised-wallet",
   "metadata": {},
   "source": [
    "# 프로젝트: 뉴스기사 요약\n",
    "\n",
    "## 1. 데이터 수집\n",
    "\n",
    "데이터는 아래 링크의 뉴스 기사 데이터(`news_summary_more.csv`)를 사용합니다.  \n",
    "- [sunnysai12345/News_Summary](https://github.com/sunnysai12345/News_Summary)  \n",
    "\n",
    "NLTK의 불용어(stopwords)를 사용합니다.  \n",
    "NLTK(Natural Language Toolkit)은 영어 기호, 통계, 자연어 처리를 위한 라이브러리입니다.  \n",
    "I, my, me, over, 조사, 접미사와 같이 문장에는 자주 등장하지만, 의미를 분석하고 요약하는데는 거의 의미가 없는 100여개의 불용어가 정리되어 있습니다.  "
   ]
  },
  {
   "cell_type": "code",
   "execution_count": 1,
   "id": "increased-courage",
   "metadata": {},
   "outputs": [
    {
     "name": "stderr",
     "output_type": "stream",
     "text": [
      "[nltk_data] Downloading package stopwords to /aiffel/nltk_data...\n",
      "[nltk_data]   Unzipping corpora/stopwords.zip.\n"
     ]
    }
   ],
   "source": [
    "import nltk\n",
    "nltk.download('stopwords')\n",
    "\n",
    "import numpy as np\n",
    "import pandas as pd\n",
    "import os\n",
    "import re\n",
    "import matplotlib.pyplot as plt\n",
    "from nltk.corpus import stopwords\n",
    "from bs4 import BeautifulSoup \n",
    "from tensorflow.keras.preprocessing.text import Tokenizer \n",
    "from tensorflow.keras.preprocessing.sequence import pad_sequences\n",
    "import urllib.request\n",
    "\n",
    "from tensorflow.keras.preprocessing.text import Tokenizer \n",
    "from tensorflow.keras.preprocessing.sequence import pad_sequences"
   ]
  },
  {
   "cell_type": "code",
   "execution_count": 2,
   "id": "retained-lingerie",
   "metadata": {},
   "outputs": [],
   "source": [
    "import urllib.request\n",
    "urllib.request.urlretrieve(\"https://raw.githubusercontent.com/sunnysai12345/News_Summary/master/news_summary_more.csv\", filename=\"news_summary_more.csv\")\n",
    "data = pd.read_csv('news_summary_more.csv', encoding='iso-8859-1')"
   ]
  },
  {
   "cell_type": "code",
   "execution_count": 3,
   "id": "arabic-carroll",
   "metadata": {},
   "outputs": [
    {
     "data": {
      "text/html": [
       "<div>\n",
       "<style scoped>\n",
       "    .dataframe tbody tr th:only-of-type {\n",
       "        vertical-align: middle;\n",
       "    }\n",
       "\n",
       "    .dataframe tbody tr th {\n",
       "        vertical-align: top;\n",
       "    }\n",
       "\n",
       "    .dataframe thead th {\n",
       "        text-align: right;\n",
       "    }\n",
       "</style>\n",
       "<table border=\"1\" class=\"dataframe\">\n",
       "  <thead>\n",
       "    <tr style=\"text-align: right;\">\n",
       "      <th></th>\n",
       "      <th>headlines</th>\n",
       "      <th>text</th>\n",
       "    </tr>\n",
       "  </thead>\n",
       "  <tbody>\n",
       "    <tr>\n",
       "      <th>36331</th>\n",
       "      <td>Team gold more special than individual gold: S...</td>\n",
       "      <td>After India won the badminton mixed team gold ...</td>\n",
       "    </tr>\n",
       "    <tr>\n",
       "      <th>26380</th>\n",
       "      <td>Anurag requested me to shoot nude scene 7 time...</td>\n",
       "      <td>Kubbra Sait, who portrays 'Cuckoo' in web seri...</td>\n",
       "    </tr>\n",
       "    <tr>\n",
       "      <th>96680</th>\n",
       "      <td>Yepme employees allege salary delays, forced r...</td>\n",
       "      <td>A group of six Yepme employees has approached ...</td>\n",
       "    </tr>\n",
       "    <tr>\n",
       "      <th>565</th>\n",
       "      <td>I won't translate from Urdu to English anymore...</td>\n",
       "      <td>Pakistani cricketer-turned-commentator Ramiz R...</td>\n",
       "    </tr>\n",
       "    <tr>\n",
       "      <th>4667</th>\n",
       "      <td>We have no plans for a nationwide farm loan wa...</td>\n",
       "      <td>Sanjeev Sanyal, Principal Economic Adviser in ...</td>\n",
       "    </tr>\n",
       "    <tr>\n",
       "      <th>84931</th>\n",
       "      <td>Artwork made with over 5 lakh pearls presente...</td>\n",
       "      <td>Artist Khushboo Akash Davda has presented an a...</td>\n",
       "    </tr>\n",
       "    <tr>\n",
       "      <th>11274</th>\n",
       "      <td>Don't know what selectors' mindset is: Sachin ...</td>\n",
       "      <td>In the wake of former captain MS Dhoni's exclu...</td>\n",
       "    </tr>\n",
       "    <tr>\n",
       "      <th>94582</th>\n",
       "      <td>Kejriwal has shattered my dream, says Anna Hazare</td>\n",
       "      <td>Anti-corruption crusader Anna Hazare on Friday...</td>\n",
       "    </tr>\n",
       "    <tr>\n",
       "      <th>37554</th>\n",
       "      <td>What was the final answer that won Anukreethy ...</td>\n",
       "      <td>Tamil Nadu's 19-year-old Anukreethy Vas was on...</td>\n",
       "    </tr>\n",
       "    <tr>\n",
       "      <th>3092</th>\n",
       "      <td>Not using browser fingerprinting to track user...</td>\n",
       "      <td>Non-tracking search engine DuckDuckGo has deni...</td>\n",
       "    </tr>\n",
       "  </tbody>\n",
       "</table>\n",
       "</div>"
      ],
      "text/plain": [
       "                                               headlines  \\\n",
       "36331  Team gold more special than individual gold: S...   \n",
       "26380  Anurag requested me to shoot nude scene 7 time...   \n",
       "96680  Yepme employees allege salary delays, forced r...   \n",
       "565    I won't translate from Urdu to English anymore...   \n",
       "4667   We have no plans for a nationwide farm loan wa...   \n",
       "84931   Artwork made with over 5 lakh pearls presente...   \n",
       "11274  Don't know what selectors' mindset is: Sachin ...   \n",
       "94582  Kejriwal has shattered my dream, says Anna Hazare   \n",
       "37554  What was the final answer that won Anukreethy ...   \n",
       "3092   Not using browser fingerprinting to track user...   \n",
       "\n",
       "                                                    text  \n",
       "36331  After India won the badminton mixed team gold ...  \n",
       "26380  Kubbra Sait, who portrays 'Cuckoo' in web seri...  \n",
       "96680  A group of six Yepme employees has approached ...  \n",
       "565    Pakistani cricketer-turned-commentator Ramiz R...  \n",
       "4667   Sanjeev Sanyal, Principal Economic Adviser in ...  \n",
       "84931  Artist Khushboo Akash Davda has presented an a...  \n",
       "11274  In the wake of former captain MS Dhoni's exclu...  \n",
       "94582  Anti-corruption crusader Anna Hazare on Friday...  \n",
       "37554  Tamil Nadu's 19-year-old Anukreethy Vas was on...  \n",
       "3092   Non-tracking search engine DuckDuckGo has deni...  "
      ]
     },
     "execution_count": 3,
     "metadata": {},
     "output_type": "execute_result"
    }
   ],
   "source": [
    "data.sample(10)"
   ]
  },
  {
   "cell_type": "markdown",
   "id": "limited-instruction",
   "metadata": {},
   "source": [
    "## 2. 데이터 전처리 (추상적 요약)"
   ]
  },
  {
   "cell_type": "code",
   "execution_count": 4,
   "id": "empirical-congo",
   "metadata": {},
   "outputs": [
    {
     "name": "stdout",
     "output_type": "stream",
     "text": [
      "Text 열에서 중복을 배제한 유일한 샘플의 수 : 98360\n",
      "Summary 열에서 중복을 배제한 유일한 샘플의 수 : 98280\n",
      "Before Remove (98401, 2)\n",
      "After Remove (98360, 2) \t전체 샘플수 : 98360\n"
     ]
    }
   ],
   "source": [
    "# 중복 데이터 제거\n",
    "print('Text 열에서 중복을 배제한 유일한 샘플의 수 :', data['text'].nunique())\n",
    "print('Summary 열에서 중복을 배제한 유일한 샘플의 수 :', data['headlines'].nunique())\n",
    "print('Before Remove', data.shape)\n",
    "\n",
    "data.drop_duplicates(subset = ['text'], inplace=True)\n",
    "print('After Remove', data.shape, '\\t전체 샘플수 :', (len(data)))"
   ]
  },
  {
   "cell_type": "code",
   "execution_count": 5,
   "id": "compliant-electricity",
   "metadata": {},
   "outputs": [
    {
     "name": "stdout",
     "output_type": "stream",
     "text": [
      "headlines    0\n",
      "text         0\n",
      "dtype: int64\n",
      "Before Remove (98360, 2)\n",
      "Before Remove (98360, 2) \t전체 샘플수 : 98360\n"
     ]
    }
   ],
   "source": [
    "# NULL 값 제거\n",
    "print(data.isnull().sum())\n",
    "print('Before Remove', data.shape)\n",
    "\n",
    "data.dropna(axis=0, inplace=True)\n",
    "print('Before Remove', data.shape, '\\t전체 샘플수 :', (len(data)))"
   ]
  },
  {
   "cell_type": "markdown",
   "id": "anticipated-adult",
   "metadata": {},
   "source": [
    "### 텍스트 정규화(text normalization)와 불용어(stopwords) 제거"
   ]
  },
  {
   "cell_type": "code",
   "execution_count": 6,
   "id": "scenic-parking",
   "metadata": {},
   "outputs": [
    {
     "name": "stdout",
     "output_type": "stream",
     "text": [
      "정규화 사전의 수:  120\n",
      "불용어 개수 : 179\n",
      "['i', 'me', 'my', 'myself', 'we', 'our', 'ours', 'ourselves', 'you', \"you're\", \"you've\", \"you'll\", \"you'd\", 'your', 'yours', 'yourself', 'yourselves', 'he', 'him', 'his', 'himself', 'she', \"she's\", 'her', 'hers', 'herself', 'it', \"it's\", 'its', 'itself', 'they', 'them', 'their', 'theirs', 'themselves', 'what', 'which', 'who', 'whom', 'this', 'that', \"that'll\", 'these', 'those', 'am', 'is', 'are', 'was', 'were', 'be', 'been', 'being', 'have', 'has', 'had', 'having', 'do', 'does', 'did', 'doing', 'a', 'an', 'the', 'and', 'but', 'if', 'or', 'because', 'as', 'until', 'while', 'of', 'at', 'by', 'for', 'with', 'about', 'against', 'between', 'into', 'through', 'during', 'before', 'after', 'above', 'below', 'to', 'from', 'up', 'down', 'in', 'out', 'on', 'off', 'over', 'under', 'again', 'further', 'then', 'once', 'here', 'there', 'when', 'where', 'why', 'how', 'all', 'any', 'both', 'each', 'few', 'more', 'most', 'other', 'some', 'such', 'no', 'nor', 'not', 'only', 'own', 'same', 'so', 'than', 'too', 'very', 's', 't', 'can', 'will', 'just', 'don', \"don't\", 'should', \"should've\", 'now', 'd', 'll', 'm', 'o', 're', 've', 'y', 'ain', 'aren', \"aren't\", 'couldn', \"couldn't\", 'didn', \"didn't\", 'doesn', \"doesn't\", 'hadn', \"hadn't\", 'hasn', \"hasn't\", 'haven', \"haven't\", 'isn', \"isn't\", 'ma', 'mightn', \"mightn't\", 'mustn', \"mustn't\", 'needn', \"needn't\", 'shan', \"shan't\", 'shouldn', \"shouldn't\", 'wasn', \"wasn't\", 'weren', \"weren't\", 'won', \"won't\", 'wouldn', \"wouldn't\"]\n"
     ]
    }
   ],
   "source": [
    "contractions = {\"ain't\": \"is not\", \"aren't\": \"are not\",\"can't\": \"cannot\", \"'cause\": \"because\", \"could've\": \"could have\", \"couldn't\": \"could not\",\n",
    "               \"didn't\": \"did not\",  \"doesn't\": \"does not\", \"don't\": \"do not\", \"hadn't\": \"had not\", \"hasn't\": \"has not\", \"haven't\": \"have not\",\n",
    "               \"he'd\": \"he would\",\"he'll\": \"he will\", \"he's\": \"he is\", \"how'd\": \"how did\", \"how'd'y\": \"how do you\", \"how'll\": \"how will\", \"how's\": \"how is\",\n",
    "               \"I'd\": \"I would\", \"I'd've\": \"I would have\", \"I'll\": \"I will\", \"I'll've\": \"I will have\",\"I'm\": \"I am\", \"I've\": \"I have\", \"i'd\": \"i would\",\n",
    "               \"i'd've\": \"i would have\", \"i'll\": \"i will\",  \"i'll've\": \"i will have\",\"i'm\": \"i am\", \"i've\": \"i have\", \"isn't\": \"is not\", \"it'd\": \"it would\",\n",
    "               \"it'd've\": \"it would have\", \"it'll\": \"it will\", \"it'll've\": \"it will have\",\"it's\": \"it is\", \"let's\": \"let us\", \"ma'am\": \"madam\",\n",
    "               \"mayn't\": \"may not\", \"might've\": \"might have\",\"mightn't\": \"might not\",\"mightn't've\": \"might not have\", \"must've\": \"must have\",\n",
    "               \"mustn't\": \"must not\", \"mustn't've\": \"must not have\", \"needn't\": \"need not\", \"needn't've\": \"need not have\",\"o'clock\": \"of the clock\",\n",
    "               \"oughtn't\": \"ought not\", \"oughtn't've\": \"ought not have\", \"shan't\": \"shall not\", \"sha'n't\": \"shall not\", \"shan't've\": \"shall not have\",\n",
    "               \"she'd\": \"she would\", \"she'd've\": \"she would have\", \"she'll\": \"she will\", \"she'll've\": \"she will have\", \"she's\": \"she is\",\n",
    "               \"should've\": \"should have\", \"shouldn't\": \"should not\", \"shouldn't've\": \"should not have\", \"so've\": \"so have\",\"so's\": \"so as\",\n",
    "               \"this's\": \"this is\",\"that'd\": \"that would\", \"that'd've\": \"that would have\", \"that's\": \"that is\", \"there'd\": \"there would\",\n",
    "               \"there'd've\": \"there would have\", \"there's\": \"there is\", \"here's\": \"here is\",\"they'd\": \"they would\", \"they'd've\": \"they would have\",\n",
    "               \"they'll\": \"they will\", \"they'll've\": \"they will have\", \"they're\": \"they are\", \"they've\": \"they have\", \"to've\": \"to have\",\n",
    "               \"wasn't\": \"was not\", \"we'd\": \"we would\", \"we'd've\": \"we would have\", \"we'll\": \"we will\", \"we'll've\": \"we will have\", \"we're\": \"we are\",\n",
    "               \"we've\": \"we have\", \"weren't\": \"were not\", \"what'll\": \"what will\", \"what'll've\": \"what will have\", \"what're\": \"what are\",\n",
    "               \"what's\": \"what is\", \"what've\": \"what have\", \"when's\": \"when is\", \"when've\": \"when have\", \"where'd\": \"where did\", \"where's\": \"where is\",\n",
    "               \"where've\": \"where have\", \"who'll\": \"who will\", \"who'll've\": \"who will have\", \"who's\": \"who is\", \"who've\": \"who have\",\n",
    "               \"why's\": \"why is\", \"why've\": \"why have\", \"will've\": \"will have\", \"won't\": \"will not\", \"won't've\": \"will not have\",\n",
    "               \"would've\": \"would have\", \"wouldn't\": \"would not\", \"wouldn't've\": \"would not have\", \"y'all\": \"you all\",\n",
    "               \"y'all'd\": \"you all would\",\"y'all'd've\": \"you all would have\",\"y'all're\": \"you all are\",\"y'all've\": \"you all have\",\n",
    "               \"you'd\": \"you would\", \"you'd've\": \"you would have\", \"you'll\": \"you will\", \"you'll've\": \"you will have\",\n",
    "               \"you're\": \"you are\", \"you've\": \"you have\"}\n",
    "\n",
    "print(\"정규화 사전의 수: \", len(contractions))\n",
    "print('불용어 개수 :', len(stopwords.words('english') ))\n",
    "print(stopwords.words('english'))"
   ]
  },
  {
   "cell_type": "code",
   "execution_count": 7,
   "id": "transsexual-wedding",
   "metadata": {},
   "outputs": [],
   "source": [
    "# 데이터 전처리 함수\n",
    "def preprocess_sentence(sentence, remove_stopwords=True):\n",
    "    sentence = sentence.lower() # 텍스트 소문자화\n",
    "    sentence = BeautifulSoup(sentence, \"lxml\").text # <br />, <a href = ...> 등의 html 태그 제거\n",
    "    sentence = re.sub(r'\\([^)]*\\)', '', sentence) # 괄호로 닫힌 문자열 (...) 제거 Ex) my husband (and myself!) for => my husband for\n",
    "    sentence = re.sub('\"','', sentence) # 쌍따옴표 \" 제거\n",
    "    sentence = ' '.join([contractions[t] if t in contractions else t for t in sentence.split(\" \")]) # 약어 정규화\n",
    "    sentence = re.sub(r\"'s\\b\",\"\", sentence) # 소유격 제거. Ex) roland's -> roland\n",
    "    sentence = re.sub(\"[^a-zA-Z]\", \" \", sentence) # 영어 외 문자(숫자, 특수문자 등) 공백으로 변환\n",
    "    sentence = re.sub('[m]{2,}', 'mm', sentence) # m이 3개 이상이면 2개로 변경. Ex) ummmmmmm yeah -> umm yeah\n",
    "    \n",
    "    # 불용어 제거 (Text)\n",
    "    if remove_stopwords:\n",
    "        tokens = ' '.join(word for word in sentence.split() if not word in stopwords.words('english') if len(word) > 1)\n",
    "    # 불용어 미제거 (Summary)\n",
    "    else:\n",
    "        tokens = ' '.join(word for word in sentence.split() if len(word) > 1)\n",
    "    return tokens"
   ]
  },
  {
   "cell_type": "code",
   "execution_count": 8,
   "id": "popular-syntax",
   "metadata": {},
   "outputs": [
    {
     "name": "stdout",
     "output_type": "stream",
     "text": [
      "423.3587079048157  seconds\n",
      "['saurav kant alumnus upgrad iiit pg program machine learning artificial intelligence sr systems engineer infosys almost years work experience program upgrad degree career support helped transition data scientist tech mahindra salary hike upgrad online power learning powered lakh careers'\n",
      " 'kunal shah credit card bill payment platform cred gave users chance win free food swiggy one year pranav kaushik delhi techie bagged reward spending cred coins users get one cred coin per rupee bill paid used avail rewards brands like ixigo bookmyshow ubereats cult fit'\n",
      " 'new zealand defeated india wickets fourth odi hamilton thursday win first match five match odi series india lost international match rohit sharma captaincy consecutive victories dating back march match witnessed india getting seventh lowest total odi cricket history'\n",
      " ...\n",
      " 'according reports new version science fiction film matrix development michael jordan reportedly play lead role film screenwriter zak penn talks write script film reports added actor keanu reeves starred original film followed two sequels'\n",
      " 'new music video shows rapper snoop dogg aiming toy gun clown character parodying us president donald trump video also shows tv airing news conference headline ronald klump wants deport doggs airing live clown house video remixed version song lavender'\n",
      " 'madhesi morcha alliance seven political parties withdrawn support pm pushpa kamal dahal led nepal government failed meet seven day ultimatum fulfil demands including endorsement revised constitution amendment bill morcha seats parliament despite withdrawal support immediate threat government']\n",
      "12.629736423492432  seconds\n",
      "['upgrad learner switches to career in ml al with salary hike'\n",
      " 'delhi techie wins free food from swiggy for one year on cred'\n",
      " 'new zealand end rohit sharma led india match winning streak' ...\n",
      " 'the matrix film to get reboot reports'\n",
      " 'snoop dogg aims gun at clown dressed as trump in new video'\n",
      " 'madhesi morcha withdraws support to nepalese government']\n"
     ]
    }
   ],
   "source": [
    "import multiprocessing as mp   # 멀티 프로세싱으로 전처리 속도를 획기적으로 줄여봅시다\n",
    "from multiprocessing import Pool\n",
    "import numpy as np\n",
    "import time\n",
    "from functools import partial  # map을 할 때 함수에 여러 인자를 넣어줄 수 있도록 합니다\n",
    "\n",
    "start = time.time()\n",
    "\n",
    "# num_cores 만큼 쪼개진 데이터를 전처리하여 반환합니다\n",
    "def appendTexts(sentences, remove_stopwords):\n",
    "    texts = []\n",
    "    for s in sentences:\n",
    "\n",
    "        texts += preprocess_sentence(s, remove_stopwords),\n",
    "    return texts\n",
    "\n",
    "def preprocess_data(data, remove_stopwords=True):\n",
    "    start_time = time.time()\n",
    "    num_cores = mp.cpu_count()  # 컴퓨터의 코어 수를 구합니다\n",
    "\n",
    "    text_data_split = np.array_split(data, num_cores)  # 코어 수만큼 데이터를 배분하여 병렬적으로 처리할 수 있게 합니다\n",
    "    pool = Pool(num_cores)\n",
    "\n",
    "    processed_data = np.concatenate(pool.map(partial(appendTexts, remove_stopwords=remove_stopwords), text_data_split))  # 각자 작업한 데이터를 하나로 합쳐줍니다\n",
    "    pool.close()\n",
    "    pool.join()\n",
    "    print(time.time() - start_time, \" seconds\")\n",
    "    return processed_data\n",
    "\n",
    "clean_text = preprocess_data(data['text'])  # 클라우드 기준으로 3~4분 정도 소요 됩니다\n",
    "print(clean_text)\n",
    "\n",
    "clean_summary = preprocess_data(data['headlines'], remove_stopwords=False) # 클라우드 기준 1분정도 소요됩니다.\n",
    "print(clean_summary)"
   ]
  },
  {
   "cell_type": "code",
   "execution_count": 9,
   "id": "unusual-springer",
   "metadata": {},
   "outputs": [
    {
     "name": "stdout",
     "output_type": "stream",
     "text": [
      "nan data after preprocessing : headlines    0\n",
      "text         0\n",
      "dtype: int64\n",
      "전체 샘플수 : 98360\n"
     ]
    }
   ],
   "source": [
    "data['text'] = clean_text\n",
    "data['headlines'] = clean_summary\n",
    "\n",
    "# 빈 값을 Null 값으로 변환\n",
    "data.replace('', np.nan, inplace=True)\n",
    "print(\"nan data after preprocessing :\", data.isnull().sum())\n",
    "\n",
    "data.dropna(axis=0, inplace=True)\n",
    "print('전체 샘플수 :', (len(data)))"
   ]
  },
  {
   "cell_type": "markdown",
   "id": "maritime-webmaster",
   "metadata": {},
   "source": [
    "### 샘플의 최대 길이 정하기\n",
    "\n",
    "Text와 Summary의 최소, 최대, 평균 길이를 구하고 또한 길이 분포를 시각화합니다. "
   ]
  },
  {
   "cell_type": "code",
   "execution_count": 10,
   "id": "numerous-gabriel",
   "metadata": {},
   "outputs": [
    {
     "name": "stdout",
     "output_type": "stream",
     "text": [
      "텍스트의 최소 길이 : 1\n",
      "텍스트의 최대 길이 : 60\n",
      "텍스트의 평균 길이 : 35.09968483123221\n",
      "요약의 최소 길이 : 1\n",
      "요약의 최대 길이 : 16\n",
      "요약의 평균 길이 : 9.299532330215534\n"
     ]
    },
    {
     "data": {
      "image/png": "[encoded data removed]",
      "text/plain": [
       "<Figure size 432x288 with 2 Axes>"
      ]
     },
     "metadata": {
      "needs_background": "light"
     },
     "output_type": "display_data"
    },
    {
     "data": {
      "image/png": "[encoded data removed]",
      "text/plain": [
       "<Figure size 432x288 with 1 Axes>"
      ]
     },
     "metadata": {
      "needs_background": "light"
     },
     "output_type": "display_data"
    },
    {
     "data": {
      "image/png": "[encoded data removed]",
      "text/plain": [
       "<Figure size 432x288 with 1 Axes>"
      ]
     },
     "metadata": {
      "needs_background": "light"
     },
     "output_type": "display_data"
    }
   ],
   "source": [
    "# 길이 분포 출력\n",
    "import matplotlib.pyplot as plt\n",
    "\n",
    "text_len = [len(s.split()) for s in data['text']]\n",
    "summary_len = [len(s.split()) for s in data['headlines']]\n",
    "\n",
    "print('텍스트의 최소 길이 : {}'.format(np.min(text_len)))\n",
    "print('텍스트의 최대 길이 : {}'.format(np.max(text_len)))\n",
    "print('텍스트의 평균 길이 : {}'.format(np.mean(text_len)))\n",
    "print('요약의 최소 길이 : {}'.format(np.min(summary_len)))\n",
    "print('요약의 최대 길이 : {}'.format(np.max(summary_len)))\n",
    "print('요약의 평균 길이 : {}'.format(np.mean(summary_len)))\n",
    "\n",
    "plt.subplot(1,2,1)\n",
    "plt.boxplot(summary_len)\n",
    "plt.title('headlines')\n",
    "plt.subplot(1,2,2)\n",
    "plt.boxplot(text_len)\n",
    "plt.title('test')\n",
    "plt.tight_layout()\n",
    "plt.show()\n",
    "\n",
    "plt.title('headlines')\n",
    "plt.hist(summary_len, bins = 40)\n",
    "plt.xlabel('length of samples')\n",
    "plt.ylabel('number of samples')\n",
    "plt.show()\n",
    "\n",
    "plt.title('text')\n",
    "plt.hist(text_len, bins = 40)\n",
    "plt.xlabel('length of samples')\n",
    "plt.ylabel('number of samples')\n",
    "plt.show()"
   ]
  },
  {
   "cell_type": "code",
   "execution_count": 11,
   "id": "normal-liechtenstein",
   "metadata": {},
   "outputs": [
    {
     "name": "stdout",
     "output_type": "stream",
     "text": [
      "전체 샘플 중 길이가 50 이하인 샘플의 비율: 0.9998576657177715\n",
      "전체 샘플 중 길이가 12 이하인 샘플의 비율: 0.9880337535583571\n"
     ]
    }
   ],
   "source": [
    "text_max_len = 50\n",
    "summary_max_len = 12\n",
    "\n",
    "def below_threshold_len(max_len, nested_list):    # 데이터의 몇 %가 해당하는지 계산하는 함수\n",
    "    cnt = 0\n",
    "    for s in nested_list:\n",
    "        if(len(s.split()) <= max_len):\n",
    "            cnt = cnt + 1\n",
    "    print('전체 샘플 중 길이가 %s 이하인 샘플의 비율: %s'%(max_len, (cnt / len(nested_list))))\n",
    "    \n",
    "below_threshold_len(text_max_len, data['text'])\n",
    "below_threshold_len(summary_max_len,  data['headlines'])"
   ]
  },
  {
   "cell_type": "code",
   "execution_count": 12,
   "id": "worthy-airfare",
   "metadata": {},
   "outputs": [
    {
     "name": "stdout",
     "output_type": "stream",
     "text": [
      "전체 샘플수 : 97169\n"
     ]
    }
   ],
   "source": [
    "# 정해진 길이보다 길면 제외하는 방법으로 데이터 정제\n",
    "data = data[data['text'].apply(lambda x: len(x.split()) <= text_max_len)]\n",
    "data = data[data['headlines'].apply(lambda x: len(x.split()) <= summary_max_len)]\n",
    "print('전체 샘플수 :', (len(data)))"
   ]
  },
  {
   "cell_type": "markdown",
   "id": "compound-jason",
   "metadata": {},
   "source": [
    "### 시작 토큰과 종료 토큰 추가하기\n",
    "\n",
    "시작 토큰을 입력받아 문장을 생성, 종료 토큰을 예측한 순간에 문장 생성 종료"
   ]
  },
  {
   "cell_type": "code",
   "execution_count": 13,
   "id": "connected-balance",
   "metadata": {},
   "outputs": [
    {
     "data": {
      "text/html": [
       "<div>\n",
       "<style scoped>\n",
       "    .dataframe tbody tr th:only-of-type {\n",
       "        vertical-align: middle;\n",
       "    }\n",
       "\n",
       "    .dataframe tbody tr th {\n",
       "        vertical-align: top;\n",
       "    }\n",
       "\n",
       "    .dataframe thead th {\n",
       "        text-align: right;\n",
       "    }\n",
       "</style>\n",
       "<table border=\"1\" class=\"dataframe\">\n",
       "  <thead>\n",
       "    <tr style=\"text-align: right;\">\n",
       "      <th></th>\n",
       "      <th>headlines</th>\n",
       "      <th>text</th>\n",
       "      <th>decoder_input</th>\n",
       "      <th>decoder_target</th>\n",
       "    </tr>\n",
       "  </thead>\n",
       "  <tbody>\n",
       "    <tr>\n",
       "      <th>0</th>\n",
       "      <td>upgrad learner switches to career in ml al wit...</td>\n",
       "      <td>saurav kant alumnus upgrad iiit pg program mac...</td>\n",
       "      <td>sostoken upgrad learner switches to career in ...</td>\n",
       "      <td>upgrad learner switches to career in ml al wit...</td>\n",
       "    </tr>\n",
       "    <tr>\n",
       "      <th>1</th>\n",
       "      <td>delhi techie wins free food from swiggy for on...</td>\n",
       "      <td>kunal shah credit card bill payment platform c...</td>\n",
       "      <td>sostoken delhi techie wins free food from swig...</td>\n",
       "      <td>delhi techie wins free food from swiggy for on...</td>\n",
       "    </tr>\n",
       "    <tr>\n",
       "      <th>2</th>\n",
       "      <td>new zealand end rohit sharma led india match w...</td>\n",
       "      <td>new zealand defeated india wickets fourth odi ...</td>\n",
       "      <td>sostoken new zealand end rohit sharma led indi...</td>\n",
       "      <td>new zealand end rohit sharma led india match w...</td>\n",
       "    </tr>\n",
       "    <tr>\n",
       "      <th>3</th>\n",
       "      <td>aegon life iterm insurance plan helps customer...</td>\n",
       "      <td>aegon life iterm insurance plan customers enjo...</td>\n",
       "      <td>sostoken aegon life iterm insurance plan helps...</td>\n",
       "      <td>aegon life iterm insurance plan helps customer...</td>\n",
       "    </tr>\n",
       "    <tr>\n",
       "      <th>5</th>\n",
       "      <td>rahat fateh ali khan denies getting notice for...</td>\n",
       "      <td>pakistani singer rahat fateh ali khan denied r...</td>\n",
       "      <td>sostoken rahat fateh ali khan denies getting n...</td>\n",
       "      <td>rahat fateh ali khan denies getting notice for...</td>\n",
       "    </tr>\n",
       "  </tbody>\n",
       "</table>\n",
       "</div>"
      ],
      "text/plain": [
       "                                           headlines  \\\n",
       "0  upgrad learner switches to career in ml al wit...   \n",
       "1  delhi techie wins free food from swiggy for on...   \n",
       "2  new zealand end rohit sharma led india match w...   \n",
       "3  aegon life iterm insurance plan helps customer...   \n",
       "5  rahat fateh ali khan denies getting notice for...   \n",
       "\n",
       "                                                text  \\\n",
       "0  saurav kant alumnus upgrad iiit pg program mac...   \n",
       "1  kunal shah credit card bill payment platform c...   \n",
       "2  new zealand defeated india wickets fourth odi ...   \n",
       "3  aegon life iterm insurance plan customers enjo...   \n",
       "5  pakistani singer rahat fateh ali khan denied r...   \n",
       "\n",
       "                                       decoder_input  \\\n",
       "0  sostoken upgrad learner switches to career in ...   \n",
       "1  sostoken delhi techie wins free food from swig...   \n",
       "2  sostoken new zealand end rohit sharma led indi...   \n",
       "3  sostoken aegon life iterm insurance plan helps...   \n",
       "5  sostoken rahat fateh ali khan denies getting n...   \n",
       "\n",
       "                                      decoder_target  \n",
       "0  upgrad learner switches to career in ml al wit...  \n",
       "1  delhi techie wins free food from swiggy for on...  \n",
       "2  new zealand end rohit sharma led india match w...  \n",
       "3  aegon life iterm insurance plan helps customer...  \n",
       "5  rahat fateh ali khan denies getting notice for...  "
      ]
     },
     "execution_count": 13,
     "metadata": {},
     "output_type": "execute_result"
    }
   ],
   "source": [
    "# 요약 데이터에는 시작 토큰과 종료 토큰을 추가한다.\n",
    "data['decoder_input'] = data['headlines'].apply(lambda x : 'sostoken '+ x)\n",
    "data['decoder_target'] = data['headlines'].apply(lambda x : x + ' eostoken')\n",
    "data.head()"
   ]
  },
  {
   "cell_type": "markdown",
   "id": "weekly-minister",
   "metadata": {},
   "source": [
    "### Encoder & Decoder 생성 + 섞어주기"
   ]
  },
  {
   "cell_type": "code",
   "execution_count": 14,
   "id": "sealed-harassment",
   "metadata": {},
   "outputs": [],
   "source": [
    "encoder_input = np.array(data['text']) # 인코더의 입력\n",
    "decoder_input = np.array(data['decoder_input']) # 디코더의 입력\n",
    "decoder_target = np.array(data['decoder_target']) # 디코더의 레이블\n",
    "\n",
    "indices = np.arange(encoder_input.shape[0])\n",
    "np.random.shuffle(indices)    # encoder_input과 크기와 형태가 같은 순서가 섞인 정수 시퀀스를 생성\n",
    "\n",
    "# 위 정수 시퀀스를 이용해 데이터의 샘플 순서를 정의해서 섞어주기\n",
    "encoder_input = encoder_input[indices]\n",
    "decoder_input = decoder_input[indices]\n",
    "decoder_target = decoder_target[indices]"
   ]
  },
  {
   "cell_type": "markdown",
   "id": "announced-moses",
   "metadata": {},
   "source": [
    "### train & test 데이터 나누기"
   ]
  },
  {
   "cell_type": "code",
   "execution_count": 15,
   "id": "decreased-million",
   "metadata": {},
   "outputs": [
    {
     "name": "stdout",
     "output_type": "stream",
     "text": [
      "테스트 데이터의 수 : 19433\n",
      "훈련 데이터의 개수 : 77736\n",
      "훈련 레이블의 개수 : 77736\n",
      "테스트 데이터의 개수 : 19433\n",
      "테스트 레이블의 개수 : 19433\n"
     ]
    }
   ],
   "source": [
    "# 섞인 데이터를 8:2의 비율로 훈련 데이터와 테스트 데이터로 분리\n",
    "n_of_val = int(len(encoder_input)*0.2)\n",
    "print('테스트 데이터의 수 :', n_of_val)\n",
    "\n",
    "encoder_input_train = encoder_input[:-n_of_val]\n",
    "decoder_input_train = decoder_input[:-n_of_val]\n",
    "decoder_target_train = decoder_target[:-n_of_val]\n",
    "\n",
    "encoder_input_test = encoder_input[-n_of_val:]\n",
    "decoder_input_test = decoder_input[-n_of_val:]\n",
    "decoder_target_test = decoder_target[-n_of_val:]\n",
    "\n",
    "print('훈련 데이터의 개수 :', len(encoder_input_train))\n",
    "print('훈련 레이블의 개수 :', len(decoder_input_train))\n",
    "print('테스트 데이터의 개수 :', len(encoder_input_test))\n",
    "print('테스트 레이블의 개수 :', len(decoder_input_test))"
   ]
  },
  {
   "cell_type": "code",
   "execution_count": 16,
   "id": "informed-supplement",
   "metadata": {},
   "outputs": [],
   "source": [
    "src_tokenizer = Tokenizer() # 토크나이저 정의\n",
    "src_tokenizer.fit_on_texts(encoder_input_train) # 입력된 데이터로부터 단어 집합 생성"
   ]
  },
  {
   "cell_type": "markdown",
   "id": "human-orbit",
   "metadata": {},
   "source": [
    "### 빈도수 10 이상인 것만 남기기"
   ]
  },
  {
   "cell_type": "code",
   "execution_count": 17,
   "id": "tutorial-copying",
   "metadata": {},
   "outputs": [
    {
     "name": "stdout",
     "output_type": "stream",
     "text": [
      "단어 집합(vocabulary)의 크기 : 69253\n",
      "등장 빈도가 9번 이하인 희귀 단어의 수: 50943\n",
      "단어 집합에서 희귀 단어를 제외시킬 경우의 단어 집합의 크기 18310\n",
      "단어 집합에서 희귀 단어의 비율: 73.56071217131388\n",
      "전체 등장 빈도에서 희귀 단어 등장 빈도 비율: 4.589475165103136\n"
     ]
    }
   ],
   "source": [
    "threshold = 10\n",
    "total_cnt = len(src_tokenizer.word_index) # 단어의 수\n",
    "rare_cnt = 0 # 등장 빈도수가 threshold보다 작은 단어의 개수를 카운트\n",
    "total_freq = 0 # 훈련 데이터의 전체 단어 빈도수 총 합\n",
    "rare_freq = 0 # 등장 빈도수가 threshold보다 작은 단어의 등장 빈도수의 총 합\n",
    "\n",
    "# 단어와 빈도수의 쌍(pair)을 key와 value로 받는다.\n",
    "for key, value in src_tokenizer.word_counts.items():\n",
    "    total_freq = total_freq + value\n",
    "\n",
    "    # 단어의 등장 빈도수가 threshold보다 작으면\n",
    "    if(value < threshold):\n",
    "        rare_cnt = rare_cnt + 1\n",
    "        rare_freq = rare_freq + value\n",
    "\n",
    "print('단어 집합(vocabulary)의 크기 :', total_cnt)\n",
    "print('등장 빈도가 %s번 이하인 희귀 단어의 수: %s'%(threshold - 1, rare_cnt))\n",
    "print('단어 집합에서 희귀 단어를 제외시킬 경우의 단어 집합의 크기 %s'%(total_cnt - rare_cnt))\n",
    "print(\"단어 집합에서 희귀 단어의 비율:\", (rare_cnt / total_cnt)*100)\n",
    "print(\"전체 등장 빈도에서 희귀 단어 등장 빈도 비율:\", (rare_freq / total_freq)*100)"
   ]
  },
  {
   "cell_type": "markdown",
   "id": "suffering-relay",
   "metadata": {},
   "source": [
    "### Vocab Size 8000으로 제한"
   ]
  },
  {
   "cell_type": "code",
   "execution_count": 18,
   "id": "exotic-intake",
   "metadata": {},
   "outputs": [],
   "source": [
    "src_vocab = 8000\n",
    "src_tokenizer = Tokenizer(num_words=src_vocab) # 단어 집합의 크기를 8,000으로 제한\n",
    "src_tokenizer.fit_on_texts(encoder_input_train) # 단어 집합 재생성."
   ]
  },
  {
   "cell_type": "markdown",
   "id": "frank-arrival",
   "metadata": {},
   "source": [
    "### 단어를 정수로 변환"
   ]
  },
  {
   "cell_type": "code",
   "execution_count": 19,
   "id": "restricted-compound",
   "metadata": {},
   "outputs": [
    {
     "name": "stdout",
     "output_type": "stream",
     "text": [
      "[[456, 3413, 330, 1993, 48, 286, 2701, 94, 5286, 7747, 171, 2567, 4589, 4671, 362, 3213, 554, 347, 54, 30, 168, 7747, 4062, 33, 5549, 7747, 48, 2649, 261, 30, 1], [5334, 216, 971, 1611, 1355, 271, 3062, 2353, 2907, 859, 2568, 1631, 40, 2568, 22, 607, 27, 5334, 225, 3112, 724, 1663, 1970, 9, 65, 636, 324], [6675, 325, 1416, 1761, 2090, 2331, 267, 2469, 1238, 314, 1985, 4417, 3318, 2331, 185, 9, 465, 2738, 694, 135, 1980, 447, 6675, 68, 285, 1761, 3995]]\n"
     ]
    }
   ],
   "source": [
    "# 텍스트 시퀀스를 정수 시퀀스로 변환\n",
    "encoder_input_train = src_tokenizer.texts_to_sequences(encoder_input_train) \n",
    "encoder_input_test = src_tokenizer.texts_to_sequences(encoder_input_test)\n",
    "\n",
    "# 잘 진행되었는지 샘플 출력\n",
    "print(encoder_input_train[:3])"
   ]
  },
  {
   "cell_type": "code",
   "execution_count": 20,
   "id": "synthetic-marriage",
   "metadata": {},
   "outputs": [
    {
     "name": "stdout",
     "output_type": "stream",
     "text": [
      "단어 집합(vocabulary)의 크기 : 30016\n",
      "등장 빈도가 9번 이하인 희귀 단어의 수: 22360\n",
      "단어 집합에서 희귀 단어를 제외시킬 경우의 단어 집합의 크기 7656\n",
      "단어 집합에서 희귀 단어의 비율: 74.49360341151386\n",
      "전체 등장 빈도에서 희귀 단어 등장 빈도 비율: 7.198368371509256\n",
      "input\n",
      "input  [[1, 299, 1160, 315, 688, 16, 380, 252], [1, 788, 4, 1597, 6], [1, 137, 865, 966, 1854, 8, 622], [1, 97, 431, 496, 3, 394, 810, 247, 6, 1080], [1, 10, 1668, 1727]]\n",
      "target\n",
      "decoder  [[299, 1160, 315, 688, 16, 380, 252, 2], [788, 4, 1597, 6, 2], [137, 865, 966, 1854, 8, 622, 2], [97, 431, 496, 3, 394, 810, 247, 6, 1080, 2], [10, 1668, 1727, 2]]\n"
     ]
    }
   ],
   "source": [
    "tar_tokenizer = Tokenizer()\n",
    "tar_tokenizer.fit_on_texts(decoder_input_train)\n",
    "\n",
    "threshold = 10\n",
    "total_cnt = len(tar_tokenizer.word_index) # 단어의 수\n",
    "rare_cnt = 0 # 등장 빈도수가 threshold보다 작은 단어의 개수를 카운트\n",
    "total_freq = 0 # 훈련 데이터의 전체 단어 빈도수 총 합\n",
    "rare_freq = 0 # 등장 빈도수가 threshold보다 작은 단어의 등장 빈도수의 총 합\n",
    "\n",
    "# 단어와 빈도수의 쌍(pair)을 key와 value로 받는다.\n",
    "for key, value in tar_tokenizer.word_counts.items():\n",
    "    total_freq = total_freq + value\n",
    "\n",
    "    # 단어의 등장 빈도수가 threshold보다 작으면\n",
    "    if(value < threshold):\n",
    "        rare_cnt = rare_cnt + 1\n",
    "        rare_freq = rare_freq + value\n",
    "\n",
    "print('단어 집합(vocabulary)의 크기 :', total_cnt)\n",
    "print('등장 빈도가 %s번 이하인 희귀 단어의 수: %s'%(threshold - 1, rare_cnt))\n",
    "print('단어 집합에서 희귀 단어를 제외시킬 경우의 단어 집합의 크기 %s'%(total_cnt - rare_cnt))\n",
    "print(\"단어 집합에서 희귀 단어의 비율:\", (rare_cnt / total_cnt)*100)\n",
    "print(\"전체 등장 빈도에서 희귀 단어 등장 빈도 비율:\", (rare_freq / total_freq)*100)\n",
    "\n",
    "tar_vocab = 2000\n",
    "tar_tokenizer = Tokenizer(num_words=tar_vocab) \n",
    "tar_tokenizer.fit_on_texts(decoder_input_train)\n",
    "tar_tokenizer.fit_on_texts(decoder_target_train)\n",
    "\n",
    "# 텍스트 시퀀스를 정수 시퀀스로 변환\n",
    "decoder_input_train = tar_tokenizer.texts_to_sequences(decoder_input_train) \n",
    "decoder_target_train = tar_tokenizer.texts_to_sequences(decoder_target_train)\n",
    "decoder_input_test = tar_tokenizer.texts_to_sequences(decoder_input_test)\n",
    "decoder_target_test = tar_tokenizer.texts_to_sequences(decoder_target_test)\n",
    "\n",
    "# 잘 변환되었는지 확인\n",
    "print('input')\n",
    "print('input ',decoder_input_train[:5])\n",
    "print('target')\n",
    "print('decoder ',decoder_target_train[:5])"
   ]
  },
  {
   "cell_type": "code",
   "execution_count": 21,
   "id": "horizontal-cheat",
   "metadata": {},
   "outputs": [
    {
     "name": "stdout",
     "output_type": "stream",
     "text": [
      "삭제할 훈련 데이터의 개수 : 11\n",
      "삭제할 테스트 데이터의 개수 : 4\n",
      "훈련 데이터의 개수 : 77725\n",
      "훈련 레이블의 개수 : 77725\n",
      "테스트 데이터의 개수 : 19429\n",
      "테스트 레이블의 개수 : 19429\n"
     ]
    },
    {
     "name": "stderr",
     "output_type": "stream",
     "text": [
      "/opt/conda/lib/python3.7/site-packages/numpy/core/_asarray.py:83: VisibleDeprecationWarning: Creating an ndarray from ragged nested sequences (which is a list-or-tuple of lists-or-tuples-or ndarrays with different lengths or shapes) is deprecated. If you meant to do this, you must specify 'dtype=object' when creating the ndarray\n",
      "  return array(a, dtype, copy=False, order=order)\n"
     ]
    }
   ],
   "source": [
    "drop_train = [index for index, sentence in enumerate(decoder_input_train) if len(sentence) == 1]\n",
    "drop_test = [index for index, sentence in enumerate(decoder_input_test) if len(sentence) == 1]\n",
    "\n",
    "print('삭제할 훈련 데이터의 개수 :', len(drop_train))\n",
    "print('삭제할 테스트 데이터의 개수 :', len(drop_test))\n",
    "\n",
    "encoder_input_train = np.delete(encoder_input_train, drop_train, axis=0)\n",
    "decoder_input_train = np.delete(decoder_input_train, drop_train, axis=0)\n",
    "decoder_target_train = np.delete(decoder_target_train, drop_train, axis=0)\n",
    "\n",
    "encoder_input_test = np.delete(encoder_input_test, drop_test, axis=0)\n",
    "decoder_input_test = np.delete(decoder_input_test, drop_test, axis=0)\n",
    "decoder_target_test = np.delete(decoder_target_test, drop_test, axis=0)\n",
    "\n",
    "print('훈련 데이터의 개수 :', len(encoder_input_train))\n",
    "print('훈련 레이블의 개수 :', len(decoder_input_train))\n",
    "print('테스트 데이터의 개수 :', len(encoder_input_test))\n",
    "print('테스트 레이블의 개수 :', len(decoder_input_test))"
   ]
  },
  {
   "cell_type": "markdown",
   "id": "impressive-class",
   "metadata": {},
   "source": [
    "### 길이가 1인 data 삭제"
   ]
  },
  {
   "cell_type": "code",
   "execution_count": 22,
   "id": "genuine-reduction",
   "metadata": {},
   "outputs": [
    {
     "name": "stdout",
     "output_type": "stream",
     "text": [
      "삭제할 훈련 데이터의 개수 : 0\n",
      "삭제할 테스트 데이터의 개수 : 0\n",
      "훈련 데이터의 개수 : 77725\n",
      "훈련 레이블의 개수 : 77725\n",
      "테스트 데이터의 개수 : 19429\n",
      "테스트 레이블의 개수 : 19429\n"
     ]
    }
   ],
   "source": [
    "drop_train = [index for index, sentence in enumerate(decoder_input_train) if len(sentence) == 1]\n",
    "drop_test = [index for index, sentence in enumerate(decoder_input_test) if len(sentence) == 1]\n",
    "\n",
    "print('삭제할 훈련 데이터의 개수 :', len(drop_train))\n",
    "print('삭제할 테스트 데이터의 개수 :', len(drop_test))\n",
    "\n",
    "encoder_input_train = np.delete(encoder_input_train, drop_train, axis=0)\n",
    "decoder_input_train = np.delete(decoder_input_train, drop_train, axis=0)\n",
    "decoder_target_train = np.delete(decoder_target_train, drop_train, axis=0)\n",
    "\n",
    "encoder_input_test = np.delete(encoder_input_test, drop_test, axis=0)\n",
    "decoder_input_test = np.delete(decoder_input_test, drop_test, axis=0)\n",
    "decoder_target_test = np.delete(decoder_target_test, drop_test, axis=0)\n",
    "\n",
    "print('훈련 데이터의 개수 :', len(encoder_input_train))\n",
    "print('훈련 레이블의 개수 :', len(decoder_input_train))\n",
    "print('테스트 데이터의 개수 :', len(encoder_input_test))\n",
    "print('테스트 레이블의 개수 :', len(decoder_input_test))"
   ]
  },
  {
   "cell_type": "code",
   "execution_count": 23,
   "id": "professional-mason",
   "metadata": {},
   "outputs": [],
   "source": [
    "encoder_input_train = pad_sequences(encoder_input_train, maxlen=text_max_len, padding='post')\n",
    "encoder_input_test = pad_sequences(encoder_input_test, maxlen=text_max_len, padding='post')\n",
    "decoder_input_train = pad_sequences(decoder_input_train, maxlen=summary_max_len, padding='post')\n",
    "decoder_target_train = pad_sequences(decoder_target_train, maxlen=summary_max_len, padding='post')\n",
    "decoder_input_test = pad_sequences(decoder_input_test, maxlen=summary_max_len, padding='post')\n",
    "decoder_target_test = pad_sequences(decoder_target_test, maxlen=summary_max_len, padding='post')"
   ]
  },
  {
   "cell_type": "markdown",
   "id": "eligible-republican",
   "metadata": {},
   "source": [
    "## 모델 설계\n",
    "### Encoder Model"
   ]
  },
  {
   "cell_type": "code",
   "execution_count": 24,
   "id": "after-premium",
   "metadata": {},
   "outputs": [
    {
     "name": "stdout",
     "output_type": "stream",
     "text": [
      "WARNING:tensorflow:Layer lstm will not use cuDNN kernel since it doesn't meet the cuDNN kernel criteria. It will use generic GPU kernel as fallback when running on GPU\n",
      "WARNING:tensorflow:Layer lstm_1 will not use cuDNN kernel since it doesn't meet the cuDNN kernel criteria. It will use generic GPU kernel as fallback when running on GPU\n",
      "WARNING:tensorflow:Layer lstm_2 will not use cuDNN kernel since it doesn't meet the cuDNN kernel criteria. It will use generic GPU kernel as fallback when running on GPU\n"
     ]
    }
   ],
   "source": [
    "from tensorflow.keras.layers import Input, LSTM, Embedding, Dense, Concatenate\n",
    "from tensorflow.keras.models import Model\n",
    "from tensorflow.keras.callbacks import EarlyStopping, ModelCheckpoint\n",
    "\n",
    "\n",
    "# 인코더 설계 시작\n",
    "embedding_dim = 128\n",
    "hidden_size = 256\n",
    "\n",
    "# 인코더\n",
    "encoder_inputs = Input(shape=(text_max_len,))\n",
    "\n",
    "# 인코더의 임베딩 층\n",
    "enc_emb = Embedding(src_vocab, embedding_dim)(encoder_inputs)\n",
    "\n",
    "# 인코더의 LSTM 1\n",
    "encoder_lstm1 = LSTM(hidden_size, return_sequences=True, return_state=True ,dropout = 0.4, recurrent_dropout = 0.4)\n",
    "encoder_output1, state_h1, state_c1 = encoder_lstm1(enc_emb)\n",
    "\n",
    "# 인코더의 LSTM 2\n",
    "encoder_lstm2 = LSTM(hidden_size, return_sequences=True, return_state=True, dropout=0.4, recurrent_dropout=0.4)\n",
    "encoder_output2, state_h2, state_c2 = encoder_lstm2(encoder_output1)\n",
    "\n",
    "# 인코더의 LSTM 3\n",
    "encoder_lstm3 = LSTM(hidden_size, return_state=True, return_sequences=True, dropout=0.4, recurrent_dropout=0.4)\n",
    "encoder_outputs, state_h, state_c= encoder_lstm3(encoder_output2)"
   ]
  },
  {
   "cell_type": "markdown",
   "id": "superior-twelve",
   "metadata": {},
   "source": [
    "### Decoder Model"
   ]
  },
  {
   "cell_type": "code",
   "execution_count": 25,
   "id": "invalid-devices",
   "metadata": {},
   "outputs": [
    {
     "name": "stdout",
     "output_type": "stream",
     "text": [
      "WARNING:tensorflow:Layer lstm_3 will not use cuDNN kernel since it doesn't meet the cuDNN kernel criteria. It will use generic GPU kernel as fallback when running on GPU\n"
     ]
    }
   ],
   "source": [
    "# 디코더 설계\n",
    "decoder_inputs = Input(shape=(None,))\n",
    "\n",
    "# 디코더의 임베딩 층\n",
    "dec_emb_layer = Embedding(tar_vocab, embedding_dim)\n",
    "dec_emb = dec_emb_layer(decoder_inputs)\n",
    "\n",
    "# 디코더의 LSTM\n",
    "decoder_lstm = LSTM(hidden_size, return_sequences=True, return_state=True, dropout=0.4, recurrent_dropout=0.2)\n",
    "decoder_outputs, _, _ = decoder_lstm(dec_emb, initial_state=[state_h, state_c])\n",
    "\n",
    "# 디코더의 출력층\n",
    "decoder_softmax_layer = Dense(tar_vocab, activation='softmax')\n",
    "decoder_softmax_outputs = decoder_softmax_layer(decoder_outputs)"
   ]
  },
  {
   "cell_type": "markdown",
   "id": "stunning-madness",
   "metadata": {},
   "source": [
    "### Encoder + Decoder"
   ]
  },
  {
   "cell_type": "code",
   "execution_count": 26,
   "id": "double-color",
   "metadata": {},
   "outputs": [
    {
     "name": "stdout",
     "output_type": "stream",
     "text": [
      "Model: \"model\"\n",
      "__________________________________________________________________________________________________\n",
      "Layer (type)                    Output Shape         Param #     Connected to                     \n",
      "==================================================================================================\n",
      "input_1 (InputLayer)            [(None, 50)]         0                                            \n",
      "__________________________________________________________________________________________________\n",
      "embedding (Embedding)           (None, 50, 128)      1024000     input_1[0][0]                    \n",
      "__________________________________________________________________________________________________\n",
      "lstm (LSTM)                     [(None, 50, 256), (N 394240      embedding[0][0]                  \n",
      "__________________________________________________________________________________________________\n",
      "input_2 (InputLayer)            [(None, None)]       0                                            \n",
      "__________________________________________________________________________________________________\n",
      "lstm_1 (LSTM)                   [(None, 50, 256), (N 525312      lstm[0][0]                       \n",
      "__________________________________________________________________________________________________\n",
      "embedding_1 (Embedding)         (None, None, 128)    256000      input_2[0][0]                    \n",
      "__________________________________________________________________________________________________\n",
      "lstm_2 (LSTM)                   [(None, 50, 256), (N 525312      lstm_1[0][0]                     \n",
      "__________________________________________________________________________________________________\n",
      "lstm_3 (LSTM)                   [(None, None, 256),  394240      embedding_1[0][0]                \n",
      "                                                                 lstm_2[0][1]                     \n",
      "                                                                 lstm_2[0][2]                     \n",
      "__________________________________________________________________________________________________\n",
      "dense (Dense)                   (None, None, 2000)   514000      lstm_3[0][0]                     \n",
      "==================================================================================================\n",
      "Total params: 3,633,104\n",
      "Trainable params: 3,633,104\n",
      "Non-trainable params: 0\n",
      "__________________________________________________________________________________________________\n"
     ]
    }
   ],
   "source": [
    "# 모델 정의\n",
    "model = Model([encoder_inputs, decoder_inputs], decoder_softmax_outputs)\n",
    "model.summary()"
   ]
  },
  {
   "cell_type": "markdown",
   "id": "changed-catering",
   "metadata": {},
   "source": [
    "### Attention Model"
   ]
  },
  {
   "cell_type": "code",
   "execution_count": 27,
   "id": "olympic-grain",
   "metadata": {},
   "outputs": [
    {
     "name": "stdout",
     "output_type": "stream",
     "text": [
      "Model: \"model_1\"\n",
      "__________________________________________________________________________________________________\n",
      "Layer (type)                    Output Shape         Param #     Connected to                     \n",
      "==================================================================================================\n",
      "input_1 (InputLayer)            [(None, 50)]         0                                            \n",
      "__________________________________________________________________________________________________\n",
      "embedding (Embedding)           (None, 50, 128)      1024000     input_1[0][0]                    \n",
      "__________________________________________________________________________________________________\n",
      "lstm (LSTM)                     [(None, 50, 256), (N 394240      embedding[0][0]                  \n",
      "__________________________________________________________________________________________________\n",
      "input_2 (InputLayer)            [(None, None)]       0                                            \n",
      "__________________________________________________________________________________________________\n",
      "lstm_1 (LSTM)                   [(None, 50, 256), (N 525312      lstm[0][0]                       \n",
      "__________________________________________________________________________________________________\n",
      "embedding_1 (Embedding)         (None, None, 128)    256000      input_2[0][0]                    \n",
      "__________________________________________________________________________________________________\n",
      "lstm_2 (LSTM)                   [(None, 50, 256), (N 525312      lstm_1[0][0]                     \n",
      "__________________________________________________________________________________________________\n",
      "lstm_3 (LSTM)                   [(None, None, 256),  394240      embedding_1[0][0]                \n",
      "                                                                 lstm_2[0][1]                     \n",
      "                                                                 lstm_2[0][2]                     \n",
      "__________________________________________________________________________________________________\n",
      "attention_layer (AttentionLayer ((None, None, 256),  131328      lstm_2[0][0]                     \n",
      "                                                                 lstm_3[0][0]                     \n",
      "__________________________________________________________________________________________________\n",
      "concat_layer (Concatenate)      (None, None, 512)    0           lstm_3[0][0]                     \n",
      "                                                                 attention_layer[0][0]            \n",
      "__________________________________________________________________________________________________\n",
      "dense_1 (Dense)                 (None, None, 2000)   1026000     concat_layer[0][0]               \n",
      "==================================================================================================\n",
      "Total params: 4,276,432\n",
      "Trainable params: 4,276,432\n",
      "Non-trainable params: 0\n",
      "__________________________________________________________________________________________________\n"
     ]
    }
   ],
   "source": [
    "urllib.request.urlretrieve(\"https://raw.githubusercontent.com/thushv89/attention_keras/master/src/layers/attention.py\", filename=\"attention.py\")\n",
    "from attention import AttentionLayer\n",
    "\n",
    "# 어텐션 층(어텐션 함수)\n",
    "attn_layer = AttentionLayer(name='attention_layer')\n",
    "# 인코더와 디코더의 모든 time step의 hidden state를 어텐션 층에 전달하고 결과를 리턴\n",
    "attn_out, attn_states = attn_layer([encoder_outputs, decoder_outputs])\n",
    "\n",
    "# 어텐션의 결과와 디코더의 hidden state들을 연결\n",
    "decoder_concat_input = Concatenate(axis=-1, name='concat_layer')([decoder_outputs, attn_out])\n",
    "\n",
    "# 디코더의 출력층\n",
    "decoder_softmax_layer = Dense(tar_vocab, activation='softmax')\n",
    "decoder_softmax_outputs = decoder_softmax_layer(decoder_concat_input)\n",
    "\n",
    "# 모델 정의\n",
    "model = Model([encoder_inputs, decoder_inputs], decoder_softmax_outputs)\n",
    "model.summary()"
   ]
  },
  {
   "cell_type": "markdown",
   "id": "ruled-wagner",
   "metadata": {},
   "source": [
    "## 학습"
   ]
  },
  {
   "cell_type": "code",
   "execution_count": 28,
   "id": "decent-hammer",
   "metadata": {},
   "outputs": [
    {
     "name": "stdout",
     "output_type": "stream",
     "text": [
      "Epoch 1/50\n",
      "304/304 [==============================] - 257s 807ms/step - loss: 4.1833 - val_loss: 3.5590\n",
      "Epoch 2/50\n",
      "304/304 [==============================] - 244s 803ms/step - loss: 3.4565 - val_loss: 3.2309\n",
      "Epoch 3/50\n",
      "304/304 [==============================] - 244s 802ms/step - loss: 3.1615 - val_loss: 3.0500\n",
      "Epoch 4/50\n",
      "304/304 [==============================] - 244s 802ms/step - loss: 2.9641 - val_loss: 2.9101\n",
      "Epoch 5/50\n",
      "304/304 [==============================] - 243s 799ms/step - loss: 2.8132 - val_loss: 2.8081\n",
      "Epoch 6/50\n",
      "304/304 [==============================] - 243s 800ms/step - loss: 2.6942 - val_loss: 2.7161\n",
      "Epoch 7/50\n",
      "304/304 [==============================] - 244s 802ms/step - loss: 2.5898 - val_loss: 2.6585\n",
      "Epoch 8/50\n",
      "304/304 [==============================] - 243s 799ms/step - loss: 2.5069 - val_loss: 2.6036\n",
      "Epoch 9/50\n",
      "304/304 [==============================] - 243s 800ms/step - loss: 2.4378 - val_loss: 2.5636\n",
      "Epoch 10/50\n",
      "304/304 [==============================] - 245s 805ms/step - loss: 2.3731 - val_loss: 2.5185\n",
      "Epoch 11/50\n",
      "304/304 [==============================] - 244s 802ms/step - loss: 2.3086 - val_loss: 2.4909\n",
      "Epoch 12/50\n",
      "304/304 [==============================] - 243s 799ms/step - loss: 2.2609 - val_loss: 2.4695\n",
      "Epoch 13/50\n",
      "304/304 [==============================] - 242s 797ms/step - loss: 2.2133 - val_loss: 2.4450\n",
      "Epoch 14/50\n",
      "304/304 [==============================] - 244s 803ms/step - loss: 2.1710 - val_loss: 2.4243\n",
      "Epoch 15/50\n",
      "304/304 [==============================] - 242s 797ms/step - loss: 2.1312 - val_loss: 2.4178\n",
      "Epoch 16/50\n",
      "304/304 [==============================] - 245s 805ms/step - loss: 2.0983 - val_loss: 2.4049\n",
      "Epoch 17/50\n",
      "304/304 [==============================] - 242s 798ms/step - loss: 2.0630 - val_loss: 2.3950\n",
      "Epoch 18/50\n",
      "304/304 [==============================] - 245s 804ms/step - loss: 2.0265 - val_loss: 2.3918\n",
      "Epoch 19/50\n",
      "304/304 [==============================] - 243s 799ms/step - loss: 2.0023 - val_loss: 2.3891\n",
      "Epoch 20/50\n",
      "304/304 [==============================] - 244s 801ms/step - loss: 1.9764 - val_loss: 2.3721\n",
      "Epoch 21/50\n",
      "304/304 [==============================] - 243s 798ms/step - loss: 1.9483 - val_loss: 2.3640\n",
      "Epoch 22/50\n",
      "304/304 [==============================] - 243s 800ms/step - loss: 1.9244 - val_loss: 2.3682\n",
      "Epoch 23/50\n",
      "304/304 [==============================] - 244s 804ms/step - loss: 1.9037 - val_loss: 2.3669\n",
      "Epoch 00023: early stopping\n"
     ]
    }
   ],
   "source": [
    "model.compile(optimizer='rmsprop', loss='sparse_categorical_crossentropy')\n",
    "es = EarlyStopping(monitor='val_loss', patience=2, verbose=1)\n",
    "history = model.fit(x=[encoder_input_train, decoder_input_train], y=decoder_target_train, \\\n",
    "          validation_data=([encoder_input_test, decoder_input_test], decoder_target_test), \\\n",
    "          batch_size=256, callbacks=[es], epochs=50)"
   ]
  },
  {
   "cell_type": "markdown",
   "id": "subjective-wildlife",
   "metadata": {},
   "source": [
    "## 학습 결과"
   ]
  },
  {
   "cell_type": "code",
   "execution_count": 29,
   "id": "cooperative-label",
   "metadata": {},
   "outputs": [
    {
     "data": {
      "image/png": "[encoded data removed]",
      "text/plain": [
       "<Figure size 432x288 with 1 Axes>"
      ]
     },
     "metadata": {
      "needs_background": "light"
     },
     "output_type": "display_data"
    }
   ],
   "source": [
    "plt.plot(history.history['loss'], label='train')\n",
    "plt.plot(history.history['val_loss'], label='test')\n",
    "plt.legend()\n",
    "plt.show()"
   ]
  },
  {
   "cell_type": "code",
   "execution_count": 30,
   "id": "canadian-pharmaceutical",
   "metadata": {},
   "outputs": [],
   "source": [
    "src_index_to_word = src_tokenizer.index_word # 원문 단어 집합에서 정수 -> 단어를 얻음\n",
    "tar_word_to_index = tar_tokenizer.word_index # 요약 단어 집합에서 단어 -> 정수를 얻음\n",
    "tar_index_to_word = tar_tokenizer.index_word # 요약 단어 집합에서 정수 -> 단어를 얻음"
   ]
  },
  {
   "cell_type": "markdown",
   "id": "cutting-institute",
   "metadata": {},
   "source": [
    "### Encoder Model"
   ]
  },
  {
   "cell_type": "code",
   "execution_count": 31,
   "id": "unlike-auckland",
   "metadata": {},
   "outputs": [],
   "source": [
    "# 인코더 설계\n",
    "encoder_model = Model(inputs=encoder_inputs, outputs=[encoder_outputs, state_h, state_c])\n",
    "\n",
    "# 이전 시점의 상태들을 저장하는 텐서\n",
    "decoder_state_input_h = Input(shape=(hidden_size,))\n",
    "decoder_state_input_c = Input(shape=(hidden_size,))\n",
    "\n",
    "dec_emb2 = dec_emb_layer(decoder_inputs)\n",
    "\n",
    "# 문장의 다음 단어를 예측하기 위해서 초기 상태(initial_state)를 이전 시점의 상태로 사용. 이는 뒤의 함수 decode_sequence()에 구현\n",
    "# 훈련 과정에서와 달리 LSTM의 리턴하는 은닉 상태와 셀 상태인 state_h와 state_c를 버리지 않음.\n",
    "decoder_outputs2, state_h2, state_c2 = decoder_lstm(dec_emb2, initial_state=[decoder_state_input_h, decoder_state_input_c])"
   ]
  },
  {
   "cell_type": "markdown",
   "id": "catholic-impact",
   "metadata": {},
   "source": [
    "### Decoder Model"
   ]
  },
  {
   "cell_type": "code",
   "execution_count": 32,
   "id": "appreciated-basics",
   "metadata": {},
   "outputs": [],
   "source": [
    "# 어텐션 함수\n",
    "decoder_hidden_state_input = Input(shape=(text_max_len, hidden_size))\n",
    "attn_out_inf, attn_states_inf = attn_layer([decoder_hidden_state_input, decoder_outputs2])\n",
    "decoder_inf_concat = Concatenate(axis=-1, name='concat')([decoder_outputs2, attn_out_inf])\n",
    "\n",
    "# 디코더의 출력층\n",
    "decoder_outputs2 = decoder_softmax_layer(decoder_inf_concat) \n",
    "\n",
    "# 최종 디코더 모델\n",
    "decoder_model = Model(\n",
    "    [decoder_inputs] + [decoder_hidden_state_input,decoder_state_input_h, decoder_state_input_c],\n",
    "    [decoder_outputs2] + [state_h2, state_c2])"
   ]
  },
  {
   "cell_type": "markdown",
   "id": "capable-string",
   "metadata": {},
   "source": [
    "### word를 Sequence로 만드는 함수"
   ]
  },
  {
   "cell_type": "code",
   "execution_count": 33,
   "id": "international-humanity",
   "metadata": {},
   "outputs": [],
   "source": [
    "def decode_sequence(input_seq):\n",
    "    # 입력으로부터 인코더의 상태를 얻음\n",
    "    e_out, e_h, e_c = encoder_model.predict(input_seq)\n",
    "\n",
    "     # <SOS>에 해당하는 토큰 생성\n",
    "    target_seq = np.zeros((1,1))\n",
    "    target_seq[0, 0] = tar_word_to_index['sostoken']\n",
    "\n",
    "    stop_condition = False\n",
    "    decoded_sentence = ''\n",
    "    while not stop_condition: # stop_condition이 True가 될 때까지 루프 반복\n",
    "\n",
    "        output_tokens, h, c = decoder_model.predict([target_seq] + [e_out, e_h, e_c])\n",
    "        sampled_token_index = np.argmax(output_tokens[0, -1, :])\n",
    "        sampled_token = tar_index_to_word[sampled_token_index]\n",
    "\n",
    "        if (sampled_token!='eostoken'):\n",
    "            decoded_sentence += ' '+sampled_token\n",
    "\n",
    "        #  <eos>에 도달하거나 최대 길이를 넘으면 중단.\n",
    "        if (sampled_token == 'eostoken'  or len(decoded_sentence.split()) >= (summary_max_len-1)):\n",
    "            stop_condition = True\n",
    "\n",
    "        # 길이가 1인 타겟 시퀀스를 업데이트\n",
    "        target_seq = np.zeros((1,1))\n",
    "        target_seq[0, 0] = sampled_token_index\n",
    "\n",
    "        # 상태를 업데이트 합니다.\n",
    "        e_h, e_c = h, c\n",
    "\n",
    "    return decoded_sentence"
   ]
  },
  {
   "cell_type": "markdown",
   "id": "dental-appearance",
   "metadata": {},
   "source": [
    "## 모델 테스트\n",
    "### 정수를 text로 변환"
   ]
  },
  {
   "cell_type": "code",
   "execution_count": 34,
   "id": "gothic-imagination",
   "metadata": {},
   "outputs": [],
   "source": [
    "# 원문의 정수 시퀀스를 텍스트 시퀀스로 변환\n",
    "def seq2text(input_seq):\n",
    "    temp=''\n",
    "    for i in input_seq:\n",
    "        if (i!=0):\n",
    "            temp = temp + src_index_to_word[i]+' '\n",
    "    return temp\n",
    "\n",
    "# 요약문의 정수 시퀀스를 텍스트 시퀀스로 변환\n",
    "def seq2summary(input_seq):\n",
    "    temp=''\n",
    "    for i in input_seq:\n",
    "        if ((i!=0 and i!=tar_word_to_index['sostoken']) and i!=tar_word_to_index['eostoken']):\n",
    "            temp = temp + tar_index_to_word[i] + ' '\n",
    "    return temp"
   ]
  },
  {
   "cell_type": "markdown",
   "id": "spare-charles",
   "metadata": {},
   "source": [
    "### 추상적 요약"
   ]
  },
  {
   "cell_type": "code",
   "execution_count": 35,
   "id": "structured-ferry",
   "metadata": {},
   "outputs": [
    {
     "name": "stdout",
     "output_type": "stream",
     "text": [
      "원문 : rehabilitation centre saudi arabia houses terrorists linked groups al qaeda taliban facilities similar five star hotel centre provides terrorists swimming pool gym hall large screen king size among facilities centre aims returning militants true islam thoughts \n",
      "실제 요약 : saudi has star for al taliban terrorists \n",
      "예측 요약 :  saudi arabia terror attack on\n",
      "\n",
      "\n",
      "원문 : priyanka chopra debut marathi production three categories th national film awards announced friday rajesh named best director bhagat best editing award meanwhile alok de bagged best sound award film produced priyanka mother production banner purple pictures \n",
      "실제 요약 : priyanka debut production wins national awards \n",
      "예측 요약 :  priyanka wins awards at awards\n",
      "\n",
      "\n",
      "원문 : hollywood actor dwayne johnson said birth daughter changed way looks women mothers also revealed helped girlfriend deliver delivery room holding legs everything comes baby said recalling experience \n",
      "실제 요약 : my daughter birth changed the way look at women \n",
      "예측 요약 :  marriage to be girl\n",
      "\n",
      "\n",
      "원문 : president robert mugabe friday made first public appearance since military takeover country government wednesday president seen graduation ceremony capital city comes amid reports mugabe refused step post nearly years may \n",
      "실제 요약 : prez seen for st time since military \n",
      "예측 요약 :  president kovind first president\n",
      "\n",
      "\n",
      "원문 : senior assam minister bjp leader sunday said citizenship bill passed assam go people concerned trying bring somebody false added bill make minority immigrants bangladesh afghanistan pakistan eligible indian citizenship \n",
      "실제 요약 : get bill or assam goes to bjp leader \n",
      "예측 요약 :  assam assam youth leader\n",
      "\n",
      "\n",
      "원문 : whistleblower christopher exposed facebook data scandal claimed number users affected leak higher million million number media felt report said data allegedly used british firm cambridge analytica influence us elections \n",
      "실제 요약 : fb leak hit users more than \n",
      "예측 요약 :  fb data scandal users data scandal\n",
      "\n",
      "\n",
      "원문 : bcci accepted india head coach rahul dravid demand cash prize awarded team support staff following team world cup victory dravid support staff members get lakh earlier bcci announced lakh reward rahul dravid lakh members \n",
      "실제 요약 : dravid prize money cut to after he asks for pay \n",
      "예측 요약 :  bcci dravid rahul dravid cash cash cash\n",
      "\n",
      "\n",
      "원문 : china thursday reportedly said india slapping face build road near lake site recent scuffle indian chinese troops added boundary india plans build road would peace \n",
      "실제 요약 : india its own face by building road china \n",
      "예측 요약 :  china warns of road in india\n",
      "\n",
      "\n",
      "원문 : actress bhumi pednekar said films wear expensive clothes good story good role added bhumi said happy part cinema today celebrating exploring stories real \n",
      "실제 요약 : will not do films to just wear \n",
      "예측 요약 :  do not know what do not know why do not make\n",
      "\n",
      "\n",
      "원문 : abhishek bachchan took instagram share picture elder sister shweta bachchan nanda th birthday happy birthday big super year love captioned picture alia bhatt also wished shweta instagram story writing happy birthday biggest style inspiration icon \n",
      "실제 요약 : abhishek shares picture with sister on her birthday \n",
      "예측 요약 :  happy birthday abhishek on pic with her\n",
      "\n",
      "\n",
      "원문 : saudi arabia recently introduced family tax immigrants living employed saudi required pay fee per per month advance move effective july expected put financial lakh indians living reports said \n",
      "실제 요약 : saudi arabia to family tax of on \n",
      "예측 요약 :  saudi arabia to pay tax to pay for months\n",
      "\n",
      "\n",
      "원문 : government decided move debt air india special purpose vehicle selling according reports reportedly decision taken committee formed airline disinvestment air india debt crore crore account working capital loans transferred \n",
      "실제 요약 : govt likely to air india debt before stake sale \n",
      "예측 요약 :  govt approves air india sale for air india\n",
      "\n",
      "\n",
      "원문 : shares icici bank rose nearly thursday share chanda kochhar quit ceo md bank bank stock top key afternoon trade kochhar earlier leave pending investigation conflict interest pro allegations \n",
      "실제 요약 : icici bank shares rise by after quits as md ceo \n",
      "예측 요약 :  bank ceo sharma quits after merger with\n",
      "\n",
      "\n",
      "원문 : goa cm manohar parrikar said government planning ban entry locals believe gambling good human nature cannot completely definitely cannot encourage said parrikar however added closed immediately companies invested \n",
      "실제 요약 : goa govt plans to ban entry of into \n",
      "예측 요약 :  cannot ban if cannot ban goa cm parrikar\n",
      "\n",
      "\n",
      "원문 : railway minister piyush goyal said banks losses position kept carpet upa rule said upa rule banks loans supposed fall non performing assets category added bjp government fixed responsibility big defaulters banks via various measures \n",
      "실제 요약 : bank were under in rule \n",
      "예측 요약 :  banks may banks in banks rail min\n",
      "\n",
      "\n",
      "원문 : australian cricket team called upcoming bangladesh series home citing financial series australia local football season requested call series financially responded alternative proposals waiting response bangladesh cricket board chief said \n",
      "실제 요약 : aus call off desh series over of financial \n",
      "예측 요약 :  aus cricket team to play cricket\n",
      "\n",
      "\n",
      "원문 : asked whether become prime minister congress single largest party general elections party president rahul gandhi said yes rahul currently campaigning upcoming karnataka assembly elections state go voting may results scheduled declared may \n",
      "실제 요약 : why not rahul on pm if congress wins in \n",
      "예측 요약 :  congress new congress pm candidate for congress\n",
      "\n",
      "\n",
      "원문 : day strike began friday farmers various parts country seen milk dumping vegetables roads farmers demanding loan waivers minimum income guarantee schemes also suspended vegetables dairy supplies cities rashtriya chief assured peaceful strike \n",
      "실제 요약 : farmers on roads during protest \n",
      "예측 요약 :  farmers farmers to farmers in delhi\n",
      "\n",
      "\n",
      "원문 : indian shuttler saina nehwal reached final denmark open beating indonesia semifinal tournament nearly minutes year old first denmark open title october face world number one taiwan final october \n",
      "실제 요약 : saina in open final after winning in mins \n",
      "예측 요약 :  saina reaches final of the year\n",
      "\n",
      "\n",
      "원문 : according reports actress aishwarya rai star opposite actor anil kapoor years upcoming film film titled khan produced directed debutant musical comedy said inspired oscar nominated everybody famous \n",
      "실제 요약 : aishwarya to star with anil in film after years report \n",
      "예측 요약 :  aishwarya to star in upcoming film reports\n",
      "\n",
      "\n",
      "원문 : ahead inauguration us embassy jerusalem speaker iranian parliament ali called us president donald trump decision shift embassy adding actions cannot continue today world said believe current us president capable identifying long term consequences actions \n",
      "실제 요약 : iran calls trump over jerusalem embassy move \n",
      "예측 요약 :  jerusalem embassy cannot be allowed to jerusalem\n",
      "\n",
      "\n",
      "원문 : paytm founder vijay shekhar sharma flipkart founders binny bansal sachin bansal made self made category india rich list group ranked one category crore list million cut also included startup founder \n",
      "실제 요약 : paytm and flipkart founders in india list \n",
      "예측 요약 :  sachin sachin sachin among top in india\n",
      "\n",
      "\n",
      "원문 : italian sports car maker said tax policy needed company make long term business plans india understand luxury segment high would like said automaker added quick changes tax structure disturbed consumers buying process \n",
      "실제 요약 : need tax policy for long term india plan \n",
      "예측 요약 :  gst must be given to customers\n",
      "\n",
      "\n",
      "원문 : man dressed fish finger accepted official upcoming uk general elections candidate goes name mr fish finger fighting seat notably page support raised enough cover deposit required candidates \n",
      "실제 요약 : fish to contest in uk general elections \n",
      "예측 요약 :  man finds fish in fish in goa\n",
      "\n",
      "\n",
      "원문 : denying reports said kapil sharma fees kapil sharma show colleague abhishek said pay cut rumours false getting amount extremely happy working together reports said kapil used charge around lakh per episode earlier charging lakh per episode \n",
      "실제 요약 : pay cut rumours are false on the kapil sharma show \n",
      "예측 요약 :  kapil sharma denies kapil sharma show\n",
      "\n",
      "\n",
      "원문 : former president pranab mukherjee book coalition years revealed mumbai attack india called visiting pakistani foreign minister press conference asked leave immediately mukherjee external affairs minister even offered aircraft take minister back home country \n",
      "실제 요약 : after pak minister was asked to leave india ex prez \n"
     ]
    },
    {
     "name": "stdout",
     "output_type": "stream",
     "text": [
      "예측 요약 :  ex president ex president\n",
      "\n",
      "\n",
      "원문 : england lost review second india innings first test former england spinner said wicketkeeper batsman banned taking call reviews like added former spinner revealed paul banned making reviews wrong suggestions \n",
      "실제 요약 : like as england lose review \n",
      "예측 요약 :  cannot be without bad without aus test bowler\n",
      "\n",
      "\n",
      "원문 : quarter planet land could become significantly global warming according china uk based study team studied global climate models identify areas could go dry estimated two affected regions could avoid significant warming limited pre industrial levels \n",
      "실제 요약 : global could of earth study \n",
      "예측 요약 :  climate change could be by study\n",
      "\n",
      "\n",
      "원문 : total returns official figures show highest number voluntary returns uk indians british labour party mp sharma said return combination factors india also may feel better back among family friends \n",
      "실제 요약 : highest number of returns from uk are of indians \n",
      "예측 요약 :  highest ever earn highest in years\n",
      "\n",
      "\n",
      "원문 : us based rating agency moody placed bharti airtel rating review following low levels expectations weak cash flow airtel rating lowest investment grade moody one step india second largest telecom operator posted fall profit crore july september quarter \n",
      "실제 요약 : airtel may be to by \n",
      "예측 요약 :  us to be to\n",
      "\n",
      "\n",
      "원문 : indian football team qualified fifa world cup brazil participate india football federation considered olympics brazil also offered travel see fit send team around world via ship citing team selection practice time \n",
      "실제 요약 : why did india not play fifa world cup despite \n",
      "예측 요약 :  india football team to reach fifa world cup\n",
      "\n",
      "\n",
      "원문 : husband actress allegedly committed suicide earlier week sent days judicial custody comes arrest charges suicide father accused extra marital affair police said admitted relationship another woman \n",
      "실제 요약 : husband of actress held for of suicide \n",
      "예측 요약 :  husband suicide after suicide attempt\n",
      "\n",
      "\n",
      "원문 : kerala minister said rape cases reduced men engage women mobile phones walking farmers get time abuse women busy said women use mobile phones likely aware anti social elements take advantage added \n",
      "실제 요약 : let men be farmers women phones to stop rapes min \n",
      "예측 요약 :  rape cases phones have been sold for women kerala cm\n",
      "\n",
      "\n",
      "원문 : recent interview law minister ravi shankar prasad said opposition gandhi family refuse narendra modi pm india pointing pm modi tweeted congratulate congress day assembly elections prasad claimed took upa chief sonia gandhi years congratulate modi became pm \n",
      "실제 요약 : it took yrs for sonia to wish modi on pm prasad \n",
      "예측 요약 :  pm modi never to meet pm modi\n",
      "\n",
      "\n",
      "원문 : world largest mining company secretly millions dollars israeli billionaire secure mining agreement democratic republic papers revealed documents confirm million would agreement secured \n",
      "실제 요약 : world biggest gave loan to get deal papers \n",
      "예측 요약 :  firm files for\n",
      "\n",
      "\n",
      "원문 : following talks india us defence secretary james mattis said india peace better many describing talks highly mattis said appreciate india role force region front lines said us continue expand india role primary major defence partner \n",
      "실제 요약 : india peace better than many us \n",
      "예측 요약 :  india will be india ties with india\n",
      "\n",
      "\n",
      "원문 : trainer aircraft crashed agriculture field near village telangana reddy district aircraft belonged city based rajiv gandhi aviation academy per preliminary information aircraft crashed due technical problem deputy commissioner police said pilot safe added \n",
      "실제 요약 : aircraft crashes in telangana pilot \n",
      "예측 요약 :  plane crashes into telangana airport\n",
      "\n",
      "\n",
      "원문 : german hardware billionaire known king tourists million yacht right front statue yacht called feet long helicopter pad although yacht parked legally people complained blocking statue view \n",
      "실제 요약 : billionaire king slammed for near lady \n",
      "예측 요약 :  billionaire founder billionaire to rescue\n",
      "\n",
      "\n",
      "원문 : financial intelligence unit imposed crore penalty bank baroda bank failed instances money laundering delhi based branch crore scam reported bank also held guilty failing file connected cash transactions seven accounts \n",
      "실제 요약 : cr fine on bank of over scam \n",
      "예측 요약 :  bank cr bank of cr bank account\n",
      "\n",
      "\n",
      "원문 : talking career memory swiss tennis star roger federer revealed wore pants dressing lift wimbledon title federer said realised mistake already late hands \n",
      "실제 요약 : federer before wimbledon trophy \n",
      "예측 요약 :  federer makes federer for\n",
      "\n",
      "\n",
      "원문 : public hospital france drives children mini cars ease fears surgery instead using anti medical staff use remote control mini cars carry children operation theatre scheme children aged years based similar programmes us australia \n",
      "실제 요약 : hospital kids in cars to surgery \n",
      "예측 요약 :  children to detect cancer in uk\n",
      "\n",
      "\n",
      "원문 : left arm medium pacer akash choudhary picked wickets without run overs local game late singh tournament jaipur year old figures helped team disha cricket academy dismiss academy runs overs seven academy batsmen dismissed duck \n",
      "실제 요약 : year old takes wickets for no run in in \n",
      "예측 요약 :  yr old hits in balls in\n",
      "\n",
      "\n",
      "원문 : afghanistan president sunday offered month ceasefire taliban militant group mark eid ul holiday addressing event celebrate country th independence day said ceasefire would come effect monday provided respected militant group taliban yet respond afghanistan offer \n",
      "실제 요약 : afghanistan offers month with taliban \n",
      "예측 요약 :  afghan president launches military\n",
      "\n",
      "\n",
      "원문 : ex colleague accused bcci ceo rahul johri sexually harassing place alleged johri head sales channel offered second command sexually harassed calling last part interview lowered pulled mouth give blow job added \n",
      "실제 요약 : ex accuses bcci ceo rahul of sexual harassment \n",
      "예측 요약 :  ex bcci ceo reveals he is sex with sexual harassment\n",
      "\n",
      "\n",
      "원문 : british voters would vote stay european union given option according new opinion poll referendum million voters votes cast backed leaving eu million voters votes cast backed staying britain due leave eu march \n",
      "실제 요약 : would now vote to stay in the eu poll \n",
      "예측 요약 :  uk court allows vote to vote for polls\n",
      "\n",
      "\n",
      "원문 : city paris strip myanmar leader san honorary freedom french capital failure speak crackdown rohingya muslims mayor spokesperson said would first person lose freedom paris award earlier international stripped human rights award \n",
      "실제 요약 : myanmar leader to be of freedom of paris award \n",
      "예측 요약 :  paris to be first ever of\n",
      "\n",
      "\n",
      "원문 : jacqueline fernandez criticised hugging child without consent show said intention wrong nephew like times hug added jacqueline said understand people concerns coming right believe wrong \n",
      "실제 요약 : my was not wrong on kid \n",
      "예측 요약 :  if you do not know how to be on\n",
      "\n",
      "\n",
      "원문 : trump administration thursday filed emergency applications asking supreme court revive travel ban people six muslim majority nations nine decide whether us president donald trump election campaign used evidence ban intended muslims lower courts blocked travel ban finding \n",
      "실제 요약 : trump govt files emergency to travel ban \n",
      "예측 요약 :  trump travel ban ban on emergency ban\n",
      "\n",
      "\n",
      "원문 : year old british national paul died gym goa friday police said possibly died due heart attack autopsy report waited ascertain exact cause death official said british high commission later informed incident \n",
      "실제 요약 : british national dies while at in goa \n",
      "예측 요약 :  year old dies after being hit by in goa\n",
      "\n",
      "\n",
      "원문 : toronto district school board unanimously adopted motion november hindu heritage month city board third largest north america covers schools move proposed board whose father sri lankan origin mother india \n",
      "실제 요약 : schools in canadian city to hindu month \n",
      "예측 요약 :  wb village gets new bill to open\n",
      "\n",
      "\n"
     ]
    }
   ],
   "source": [
    "for i in range(50, 100):\n",
    "    print(\"원문 :\", seq2text(encoder_input_test[i]))\n",
    "    print(\"실제 요약 :\", seq2summary(decoder_input_test[i]))\n",
    "    print(\"예측 요약 :\", decode_sequence(encoder_input_test[i].reshape(1, text_max_len)))\n",
    "    print(\"\\n\")"
   ]
  },
  {
   "cell_type": "markdown",
   "id": "continent-approval",
   "metadata": {},
   "source": [
    "### 추출적 요약"
   ]
  },
  {
   "cell_type": "code",
   "execution_count": 37,
   "id": "federal-orange",
   "metadata": {},
   "outputs": [
    {
     "data": {
      "text/plain": [
       "\"Saurav Kant, an alumnus of upGrad and IIIT-B's PG Program in Machine learning and Artificial Intelligence, was a Sr Systems Engineer at Infosys with almost 5 years of work experience. The program and upGrad's 360-degree career support helped him transition to a Data Scientist at Tech Mahindra with 90% salary hike. upGrad's Online Power Learning has powered 3 lakh+ careers.\""
      ]
     },
     "execution_count": 37,
     "metadata": {},
     "output_type": "execute_result"
    }
   ],
   "source": [
    "from summa.summarizer import summarize\n",
    "\n",
    "text= pd.read_csv('news_summary_more.csv', encoding='iso-8859-1')\n",
    "text[\"text\"][0]"
   ]
  },
  {
   "cell_type": "code",
   "execution_count": 43,
   "id": "accurate-mystery",
   "metadata": {},
   "outputs": [
    {
     "name": "stdout",
     "output_type": "stream",
     "text": [
      "원문 : saurav kant alumnus upgrad iiit pg program machine learning artificial intelligence sr systems engineer infosys almost years work experience program upgrad degree career support helped transition data scientist tech mahindra salary hike upgrad online power learning powered lakh careers\n",
      "실제 요약 : upgrad learner switches to career in ml al with salary hike\n",
      "추출적 요약 : upGrad's Online Power Learning has powered 3 lakh+ careers.\n",
      "\n",
      "\n",
      "원문 : kunal shah credit card bill payment platform cred gave users chance win free food swiggy one year pranav kaushik delhi techie bagged reward spending cred coins users get one cred coin per rupee bill paid used avail rewards brands like ixigo bookmyshow ubereats cult fit\n",
      "실제 요약 : delhi techie wins free food from swiggy for one year on cred\n",
      "추출적 요약 : Users get one CRED coin per rupee of bill paid, which can be used to avail rewards from brands like Ixigo, BookMyShow, UberEats, Cult.Fit and more.\n",
      "\n",
      "\n",
      "원문 : new zealand defeated india wickets fourth odi hamilton thursday win first match five match odi series india lost international match rohit sharma captaincy consecutive victories dating back march match witnessed india getting seventh lowest total odi cricket history\n",
      "실제 요약 : new zealand end rohit sharma led india match winning streak\n",
      "추출적 요약 : The match witnessed India getting all out for 92, their seventh lowest total in ODI cricket history.\n",
      "\n",
      "\n"
     ]
    }
   ],
   "source": [
    "for i in range(3):\n",
    "    print(\"원문 :\", data['text'][i])\n",
    "    print(\"실제 요약 :\", data['headlines'][i])\n",
    "    print(\"추출적 요약 :\", summarize(text[\"text\"][i], ratio=0.5))\n",
    "    print(\"\\n\")"
   ]
  },
  {
   "cell_type": "code",
   "execution_count": null,
   "id": "spiritual-vehicle",
   "metadata": {},
   "outputs": [],
   "source": []
  }
 ],
 "metadata": {
  "kernelspec": {
   "display_name": "Python 3",
   "language": "python",
   "name": "python3"
  },
  "language_info": {
   "codemirror_mode": {
    "name": "ipython",
    "version": 3
   },
   "file_extension": ".py",
   "mimetype": "text/x-python",
   "name": "python",
   "nbconvert_exporter": "python",
   "pygments_lexer": "ipython3",
   "version": "3.7.9"
  }
 },
 "nbformat": 4,
 "nbformat_minor": 5
}
